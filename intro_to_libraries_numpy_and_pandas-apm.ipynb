{
 "cells": [
  {
   "cell_type": "markdown",
   "metadata": {},
   "source": [
    "# Module 1 - Introducing Libraries: NumPy and Pandas\n",
    "## Pandas Part 1"
   ]
  },
  {
   "cell_type": "markdown",
   "metadata": {},
   "source": [
    "Main author: Alison Peebles Madigan."
   ]
  },
  {
   "cell_type": "markdown",
   "metadata": {},
   "source": [
    "#### _Our goals today are to be able to_: <br/>\n",
    "\n",
    "- Identify and import Python libraries\n",
    "- Identify differences between NumPy and base Python in usage and operation\n",
    "- Import/read data using Pandas\n",
    "- Identify Pandas objects and manipulate Pandas objects by index and columns\n",
    "- Filter data using Pandas\n",
    "\n",
    "#### _Big questions for this lesson_: <br/>\n",
    "- What is a package, what do packages do, and why might we want to use them?\n",
    "- When do we want to use NumPy versus Pandas?\n",
    "- What are the advantages of using Pandas?"
   ]
  },
  {
   "cell_type": "markdown",
   "metadata": {},
   "source": [
    "Let's start by looking at the Anaconda docs to see all the libraries you already have!\n",
    "\n",
    "https://docs.anaconda.com/anaconda/packages/py3.7_osx-64/"
   ]
  },
  {
   "cell_type": "markdown",
   "metadata": {},
   "source": [
    "### 1. Importing Python Libraries\n",
    "\n",
    "\n",
    "Here's the bottom line: Lots of people have written function and class definitions. Some of them are really good! And we can use these *libraries* in our analysis.\n",
    "\n",
    "[NumPy](https://www.numpy.org/) is the fundamental package for scientific computing with Python. \n",
    "\n",
    "\n",
    "To import a package type `import` followed by the name of the library as shown below."
   ]
  },
  {
   "cell_type": "code",
   "execution_count": 1,
   "metadata": {},
   "outputs": [],
   "source": [
    "import numpy "
   ]
  },
  {
   "cell_type": "code",
   "execution_count": 2,
   "metadata": {},
   "outputs": [
    {
     "name": "stdout",
     "output_type": "stream",
     "text": [
      "[1 2 3]\n"
     ]
    },
    {
     "data": {
      "text/plain": [
       "numpy.ndarray"
      ]
     },
     "execution_count": 2,
     "metadata": {},
     "output_type": "execute_result"
    }
   ],
   "source": [
    "x=numpy.array([1,2,3])\n",
    "print(x)\n",
    "\n",
    "type(x)"
   ]
  },
  {
   "cell_type": "code",
   "execution_count": 3,
   "metadata": {
    "scrolled": true
   },
   "outputs": [
    {
     "name": "stdout",
     "output_type": "stream",
     "text": [
      "[4 5 6]\n"
     ]
    },
    {
     "data": {
      "text/plain": [
       "numpy.ndarray"
      ]
     },
     "execution_count": 3,
     "metadata": {},
     "output_type": "execute_result"
    }
   ],
   "source": [
    "#most packages have a standard way to import them\n",
    "import numpy as np\n",
    "\n",
    "y=np.array([4,5,6])\n",
    "print(y)\n",
    "\n",
    "type(y)"
   ]
  },
  {
   "cell_type": "markdown",
   "metadata": {},
   "source": [
    "Because of numpy we now have lots of mathematical operations available to us!"
   ]
  },
  {
   "cell_type": "code",
   "execution_count": null,
   "metadata": {},
   "outputs": [],
   "source": [
    "np."
   ]
  },
  {
   "cell_type": "code",
   "execution_count": 4,
   "metadata": {},
   "outputs": [
    {
     "name": "stdout",
     "output_type": "stream",
     "text": [
      "25.666666666666668\n",
      "20.58046538724418\n"
     ]
    }
   ],
   "source": [
    "example = [4, 3, 25, 40, 62, 20]\n",
    "print(np.mean(example))\n",
    "print(np.std(example))"
   ]
  },
  {
   "cell_type": "markdown",
   "metadata": {},
   "source": [
    "Now let's import some other packages. We will cover in more detail some fun options for numpy later."
   ]
  },
  {
   "cell_type": "code",
   "execution_count": 5,
   "metadata": {},
   "outputs": [],
   "source": [
    "import scipy\n",
    "import pandas as pd\n",
    "import matplotlib as mpl"
   ]
  },
  {
   "cell_type": "code",
   "execution_count": 6,
   "metadata": {},
   "outputs": [
    {
     "data": {
      "text/plain": [
       "[<matplotlib.lines.Line2D at 0x11e6f2c88>]"
      ]
     },
     "execution_count": 6,
     "metadata": {},
     "output_type": "execute_result"
    }
   ],
   "source": [
    "#sometimes we will want to import a specific module from a library\n",
    "import matplotlib.pyplot as plt\n",
    "\n",
    "plt.plot(x,y)"
   ]
  },
  {
   "cell_type": "code",
   "execution_count": 7,
   "metadata": {},
   "outputs": [
    {
     "data": {
      "image/png": "[encoded data removed]",
      "text/plain": [
       "<Figure size 432x288 with 1 Axes>"
      ]
     },
     "metadata": {
      "needs_background": "light"
     },
     "output_type": "display_data"
    }
   ],
   "source": [
    "#OR we can also import it this way\n",
    "\n",
    "from matplotlib import pyplot as plt \n",
    "plt.bar(x, y);"
   ]
  },
  {
   "cell_type": "markdown",
   "metadata": {},
   "source": [
    "Try importing the seaborn library as ['sns'](https://en.wikipedia.org/wiki/Sam_Seaborn) which is the convention."
   ]
  },
  {
   "cell_type": "code",
   "execution_count": 8,
   "metadata": {},
   "outputs": [],
   "source": [
    "#type your code here!\n",
    "import seaborn as sns"
   ]
  },
  {
   "cell_type": "markdown",
   "metadata": {},
   "source": [
    "What happens if we mess with naming conventions? For example, import one of our previous libraries as print.\n",
    "\n",
    "\n",
    "PLEASE NOTE THAT WE WILL HAVE TO RESET THE KERNEL AFTER RUNNING THIS. Comment out your code after running it.\n"
   ]
  },
  {
   "cell_type": "code",
   "execution_count": 9,
   "metadata": {},
   "outputs": [],
   "source": [
    "import pandas as pd"
   ]
  },
  {
   "cell_type": "code",
   "execution_count": 10,
   "metadata": {},
   "outputs": [
    {
     "name": "stdout",
     "output_type": "stream",
     "text": [
      "[1 2 3]\n"
     ]
    }
   ],
   "source": [
    "#Did we get an error? What about when we run the following command?\n",
    "\n",
    "print(x)\n",
    "\n",
    "#Restart your kernel and clear cells"
   ]
  },
  {
   "cell_type": "markdown",
   "metadata": {},
   "source": [
    "#### Helpful links: library documenation\n",
    "\n",
    "Libraries have associated documentation to explain how to use the different tools included in a library.\n",
    "\n",
    "- [NumPy](https://docs.scipy.org/doc/numpy/)\n",
    "- [SciPy](https://docs.scipy.org/doc/scipy/reference/)\n",
    "- [Pandas](http://pandas.pydata.org/pandas-docs/stable/)\n",
    "- [Matplotlib](https://matplotlib.org/contents.html)"
   ]
  },
  {
   "cell_type": "markdown",
   "metadata": {},
   "source": [
    "### 2. NumPy versus base Python\n",
    "\n",
    "Now that we know libraries exist, why do we want to use them? Let us examine a comparison between base Python and Numpy.\n",
    "\n",
    "Python has lists and normal python can do basic math. NumPy, however, has the helpful objects called arrays.\n",
    "\n",
    "Numpy has a few advantages over base Python which we will look at."
   ]
  },
  {
   "cell_type": "code",
   "execution_count": 11,
   "metadata": {},
   "outputs": [
    {
     "name": "stdout",
     "output_type": "stream",
     "text": [
      "['Bob', 'John', 'Sally']\n",
      "['Bob' 'John' 'Sally']\n"
     ]
    }
   ],
   "source": [
    "names_list=['Bob','John','Sally']\n",
    "names_array=numpy.char.array(['Bob','John','Sally']) #use numpy.array for numbers and numpy.char.array for strings\n",
    "print(names_list)\n",
    "print(names_array)"
   ]
  },
  {
   "cell_type": "code",
   "execution_count": 13,
   "metadata": {},
   "outputs": [],
   "source": [
    "# Make a list and an array of three numbers\n",
    "\n",
    "#your code here\n",
    "numbers_list = [1, 2, 3]\n",
    "numbers_array = np.array([1, 2, 3])"
   ]
  },
  {
   "cell_type": "code",
   "execution_count": 14,
   "metadata": {},
   "outputs": [
    {
     "data": {
      "text/plain": [
       "array([0.5, 1. , 1.5])"
      ]
     },
     "execution_count": 14,
     "metadata": {},
     "output_type": "execute_result"
    }
   ],
   "source": [
    "# divide your array by 2\n",
    "\n",
    "numbers_array/2"
   ]
  },
  {
   "cell_type": "code",
   "execution_count": 21,
   "metadata": {},
   "outputs": [
    {
     "data": {
      "text/plain": [
       "[0.5, 1.0, 1.5]"
      ]
     },
     "execution_count": 21,
     "metadata": {},
     "output_type": "execute_result"
    }
   ],
   "source": [
    "# divide your list by 2\n",
    "\n",
    "# numbers_list/2\n",
    "[num/2 for num in numbers_list]"
   ]
  },
  {
   "cell_type": "markdown",
   "metadata": {},
   "source": [
    "Below, you will find a piece of code we will use to compare the speed of operations on a list and operations on an array. In this speed test, we will use the library [time](https://docs.python.org/3/library/time.html)."
   ]
  },
  {
   "cell_type": "code",
   "execution_count": 18,
   "metadata": {},
   "outputs": [
    {
     "name": "stdout",
     "output_type": "stream",
     "text": [
      "The Zen of Python, by Tim Peters\n",
      "\n",
      "Beautiful is better than ugly.\n",
      "Explicit is better than implicit.\n",
      "Simple is better than complex.\n",
      "Complex is better than complicated.\n",
      "Flat is better than nested.\n",
      "Sparse is better than dense.\n",
      "Readability counts.\n",
      "Special cases aren't special enough to break the rules.\n",
      "Although practicality beats purity.\n",
      "Errors should never pass silently.\n",
      "Unless explicitly silenced.\n",
      "In the face of ambiguity, refuse the temptation to guess.\n",
      "There should be one-- and preferably only one --obvious way to do it.\n",
      "Although that way may not be obvious at first unless you're Dutch.\n",
      "Now is better than never.\n",
      "Although never is often better than *right* now.\n",
      "If the implementation is hard to explain, it's a bad idea.\n",
      "If the implementation is easy to explain, it may be a good idea.\n",
      "Namespaces are one honking great idea -- let's do more of those!\n"
     ]
    }
   ],
   "source": [
    "import this"
   ]
  },
  {
   "cell_type": "code",
   "execution_count": 19,
   "metadata": {},
   "outputs": [],
   "source": [
    "import time\n",
    "import numpy as np"
   ]
  },
  {
   "cell_type": "code",
   "execution_count": 20,
   "metadata": {},
   "outputs": [
    {
     "data": {
      "text/plain": [
       "1561743395.096838"
      ]
     },
     "execution_count": 20,
     "metadata": {},
     "output_type": "execute_result"
    }
   ],
   "source": [
    "time.time()"
   ]
  },
  {
   "cell_type": "code",
   "execution_count": 29,
   "metadata": {},
   "outputs": [
    {
     "name": "stdout",
     "output_type": "stream",
     "text": [
      "python: 2.6226701736450195 numpy: 0.10944986343383789\n",
      "Numpy is in this example 23.96229736029242 times faster!\n"
     ]
    }
   ],
   "source": [
    "size_of_vec = 10000000\n",
    "\n",
    "def pure_python_version():\n",
    "    t1 = time.time()\n",
    "    X = range(size_of_vec)\n",
    "    Y = range(size_of_vec)\n",
    "    Z = [X[i] * Y[i] for i in range(len(X)) ]\n",
    "    return time.time() - t1\n",
    "\n",
    "def numpy_version():\n",
    "    t1 = time.time()\n",
    "    X = np.arange(size_of_vec)\n",
    "    Y = np.arange(size_of_vec)\n",
    "    Z = X * Y\n",
    "    return time.time() - t1\n",
    "\n",
    "\n",
    "t1 = pure_python_version()\n",
    "t2 = numpy_version()\n",
    "print(\"python: \" + str(t1), \"numpy: \"+ str(t2))\n",
    "print(\"Numpy is in this example \" + str(t1/t2) + \" times faster!\")"
   ]
  },
  {
   "cell_type": "markdown",
   "metadata": {},
   "source": [
    "In pairs, run the speed test with a different number, and share your results with the class."
   ]
  },
  {
   "cell_type": "markdown",
   "metadata": {},
   "source": [
    "### 3. Pandas!\n",
    "\n",
    "\n",
    "#### Let's use pandas to read some csv files so we can interact with them.\n",
    "\n",
    "First, let's check which directory we are in so the files we expect to see are there."
   ]
  },
  {
   "cell_type": "code",
   "execution_count": 30,
   "metadata": {},
   "outputs": [
    {
     "name": "stdout",
     "output_type": "stream",
     "text": [
      "/Users/BPL/Flatiron Data Science/numpy_pandas_seattle-ds-062419\n",
      "total 176\n",
      "drwxr-xr-x  10 BPL  staff    320 Jun 28 10:48 \u001b[34m.\u001b[m\u001b[m\n",
      "drwxr-xr-x  13 BPL  staff    416 Jun 28 09:27 \u001b[34m..\u001b[m\u001b[m\n",
      "drwxr-xr-x  13 BPL  staff    416 Jun 28 09:27 \u001b[34m.git\u001b[m\u001b[m\n",
      "-rw-r--r--   1 BPL  staff   1203 Jun 28 09:27 .gitignore\n",
      "drwxr-xr-x   3 BPL  staff     96 Jun 28 10:08 \u001b[34m.ipynb_checkpoints\u001b[m\u001b[m\n",
      "-rw-r--r--   1 BPL  staff  35149 Jun 28 09:27 LICENSE\n",
      "-rw-r--r--   1 BPL  staff    191 Jun 28 09:27 README.md\n",
      "-rw-r--r--   1 BPL  staff     62 Jun 28 09:27 example1.csv\n",
      "-rw-r--r--   1 BPL  staff  36713 Jun 28 10:48 intro_to_libraries_numpy_and_pandas-apm.ipynb\n",
      "-rw-r--r--   1 BPL  staff    238 Jun 28 09:27 made_up_jobs.csv\n"
     ]
    }
   ],
   "source": [
    "!pwd\n",
    "!ls -al"
   ]
  },
  {
   "cell_type": "markdown",
   "metadata": {},
   "source": [
    "Did you see that? It is possible to run terminal commands from jupyter notebook by using `!`"
   ]
  },
  {
   "cell_type": "code",
   "execution_count": 31,
   "metadata": {},
   "outputs": [],
   "source": [
    "import pandas as pd\n",
    "example_csv=pd.read_csv('example1.csv')"
   ]
  },
  {
   "cell_type": "markdown",
   "metadata": {},
   "source": [
    "There are also `read_excel` and many other pandas `read` functions."
   ]
  },
  {
   "cell_type": "code",
   "execution_count": 32,
   "metadata": {},
   "outputs": [
    {
     "data": {
      "text/html": [
       "<div>\n",
       "<style scoped>\n",
       "    .dataframe tbody tr th:only-of-type {\n",
       "        vertical-align: middle;\n",
       "    }\n",
       "\n",
       "    .dataframe tbody tr th {\n",
       "        vertical-align: top;\n",
       "    }\n",
       "\n",
       "    .dataframe thead th {\n",
       "        text-align: right;\n",
       "    }\n",
       "</style>\n",
       "<table border=\"1\" class=\"dataframe\">\n",
       "  <thead>\n",
       "    <tr style=\"text-align: right;\">\n",
       "      <th></th>\n",
       "      <th>Title1</th>\n",
       "      <th>Title2</th>\n",
       "      <th>Title3</th>\n",
       "    </tr>\n",
       "  </thead>\n",
       "  <tbody>\n",
       "    <tr>\n",
       "      <th>0</th>\n",
       "      <td>one</td>\n",
       "      <td>two</td>\n",
       "      <td>three</td>\n",
       "    </tr>\n",
       "    <tr>\n",
       "      <th>1</th>\n",
       "      <td>example1</td>\n",
       "      <td>example2</td>\n",
       "      <td>example3</td>\n",
       "    </tr>\n",
       "  </tbody>\n",
       "</table>\n",
       "</div>"
      ],
      "text/plain": [
       "     Title1    Title2    Title3\n",
       "0       one       two     three\n",
       "1  example1  example2  example3"
      ]
     },
     "execution_count": 32,
     "metadata": {},
     "output_type": "execute_result"
    }
   ],
   "source": [
    "example_csv.head() #this is an example template of how to read a csv"
   ]
  },
  {
   "cell_type": "markdown",
   "metadata": {},
   "source": [
    "Try loading in the example file in the directory called 'made_up_jobs.csv' using pandas."
   ]
  },
  {
   "cell_type": "code",
   "execution_count": 34,
   "metadata": {},
   "outputs": [
    {
     "data": {
      "text/html": [
       "<div>\n",
       "<style scoped>\n",
       "    .dataframe tbody tr th:only-of-type {\n",
       "        vertical-align: middle;\n",
       "    }\n",
       "\n",
       "    .dataframe tbody tr th {\n",
       "        vertical-align: top;\n",
       "    }\n",
       "\n",
       "    .dataframe thead th {\n",
       "        text-align: right;\n",
       "    }\n",
       "</style>\n",
       "<table border=\"1\" class=\"dataframe\">\n",
       "  <thead>\n",
       "    <tr style=\"text-align: right;\">\n",
       "      <th></th>\n",
       "      <th>ID</th>\n",
       "      <th>Name</th>\n",
       "      <th>Job</th>\n",
       "      <th>Years Employed</th>\n",
       "    </tr>\n",
       "  </thead>\n",
       "  <tbody>\n",
       "    <tr>\n",
       "      <th>0</th>\n",
       "      <td>0</td>\n",
       "      <td>Bob Bobberty</td>\n",
       "      <td>Underwater Basket Weaver</td>\n",
       "      <td>13</td>\n",
       "    </tr>\n",
       "    <tr>\n",
       "      <th>1</th>\n",
       "      <td>1</td>\n",
       "      <td>Susan Smells</td>\n",
       "      <td>Salad Spinner</td>\n",
       "      <td>5</td>\n",
       "    </tr>\n",
       "    <tr>\n",
       "      <th>2</th>\n",
       "      <td>2</td>\n",
       "      <td>Alex Lastname</td>\n",
       "      <td>Productivity Manager</td>\n",
       "      <td>2</td>\n",
       "    </tr>\n",
       "    <tr>\n",
       "      <th>3</th>\n",
       "      <td>3</td>\n",
       "      <td>Rudy P.</td>\n",
       "      <td>Being cool</td>\n",
       "      <td>55</td>\n",
       "    </tr>\n",
       "    <tr>\n",
       "      <th>4</th>\n",
       "      <td>4</td>\n",
       "      <td>Rudy G.</td>\n",
       "      <td>Being compared to Rudy P</td>\n",
       "      <td>50</td>\n",
       "    </tr>\n",
       "  </tbody>\n",
       "</table>\n",
       "</div>"
      ],
      "text/plain": [
       "   ID           Name                       Job  Years Employed\n",
       "0   0   Bob Bobberty  Underwater Basket Weaver              13\n",
       "1   1   Susan Smells             Salad Spinner               5\n",
       "2   2  Alex Lastname      Productivity Manager               2\n",
       "3   3        Rudy P.                Being cool              55\n",
       "4   4        Rudy G.  Being compared to Rudy P              50"
      ]
     },
     "execution_count": 34,
     "metadata": {},
     "output_type": "execute_result"
    }
   ],
   "source": [
    "#read in your csv here!\n",
    "\n",
    "made_up_jobs = pd.read_csv('made_up_jobs.csv')\n",
    "\n",
    "#remember that it's nice to be able to look at your data, so let's do that here, too.\n",
    "\n",
    "made_up_jobs.head()"
   ]
  },
  {
   "cell_type": "markdown",
   "metadata": {},
   "source": [
    "You can also load in data by using the url of an associated dataset."
   ]
  },
  {
   "cell_type": "code",
   "execution_count": 35,
   "metadata": {},
   "outputs": [
    {
     "data": {
      "text/html": [
       "<div>\n",
       "<style scoped>\n",
       "    .dataframe tbody tr th:only-of-type {\n",
       "        vertical-align: middle;\n",
       "    }\n",
       "\n",
       "    .dataframe tbody tr th {\n",
       "        vertical-align: top;\n",
       "    }\n",
       "\n",
       "    .dataframe thead th {\n",
       "        text-align: right;\n",
       "    }\n",
       "</style>\n",
       "<table border=\"1\" class=\"dataframe\">\n",
       "  <thead>\n",
       "    <tr style=\"text-align: right;\">\n",
       "      <th></th>\n",
       "      <th>Animal ID</th>\n",
       "      <th>Name</th>\n",
       "      <th>DateTime</th>\n",
       "      <th>MonthYear</th>\n",
       "      <th>Date of Birth</th>\n",
       "      <th>Outcome Type</th>\n",
       "      <th>Outcome Subtype</th>\n",
       "      <th>Animal Type</th>\n",
       "      <th>Sex upon Outcome</th>\n",
       "      <th>Age upon Outcome</th>\n",
       "      <th>Breed</th>\n",
       "      <th>Color</th>\n",
       "    </tr>\n",
       "  </thead>\n",
       "  <tbody>\n",
       "    <tr>\n",
       "      <th>0</th>\n",
       "      <td>A706233</td>\n",
       "      <td>Champion</td>\n",
       "      <td>06/28/2019 11:52:00 AM</td>\n",
       "      <td>06/28/2019 11:52:00 AM</td>\n",
       "      <td>01/26/2015</td>\n",
       "      <td>Return to Owner</td>\n",
       "      <td>NaN</td>\n",
       "      <td>Dog</td>\n",
       "      <td>Neutered Male</td>\n",
       "      <td>4 years</td>\n",
       "      <td>Doberman Pinsch Mix</td>\n",
       "      <td>Black/Tan</td>\n",
       "    </tr>\n",
       "    <tr>\n",
       "      <th>1</th>\n",
       "      <td>A798591</td>\n",
       "      <td>NaN</td>\n",
       "      <td>06/28/2019 11:36:00 AM</td>\n",
       "      <td>06/28/2019 11:36:00 AM</td>\n",
       "      <td>06/27/2016</td>\n",
       "      <td>Euthanasia</td>\n",
       "      <td>Suffering</td>\n",
       "      <td>Cat</td>\n",
       "      <td>Unknown</td>\n",
       "      <td>NaN</td>\n",
       "      <td>Domestic Shorthair</td>\n",
       "      <td>Orange Tabby</td>\n",
       "    </tr>\n",
       "    <tr>\n",
       "      <th>2</th>\n",
       "      <td>A798314</td>\n",
       "      <td>NaN</td>\n",
       "      <td>06/28/2019 11:22:00 AM</td>\n",
       "      <td>06/28/2019 11:22:00 AM</td>\n",
       "      <td>06/24/2017</td>\n",
       "      <td>Transfer</td>\n",
       "      <td>Partner</td>\n",
       "      <td>Dog</td>\n",
       "      <td>Intact Female</td>\n",
       "      <td>2 years</td>\n",
       "      <td>Lhasa Apso Mix</td>\n",
       "      <td>White</td>\n",
       "    </tr>\n",
       "    <tr>\n",
       "      <th>3</th>\n",
       "      <td>A798599</td>\n",
       "      <td>NaN</td>\n",
       "      <td>06/28/2019 11:19:00 AM</td>\n",
       "      <td>06/28/2019 11:19:00 AM</td>\n",
       "      <td>06/28/2019</td>\n",
       "      <td>Euthanasia</td>\n",
       "      <td>Suffering</td>\n",
       "      <td>Cat</td>\n",
       "      <td>Unknown</td>\n",
       "      <td>NaN</td>\n",
       "      <td>Domestic Shorthair</td>\n",
       "      <td>Brown Tabby</td>\n",
       "    </tr>\n",
       "    <tr>\n",
       "      <th>4</th>\n",
       "      <td>A798301</td>\n",
       "      <td>NaN</td>\n",
       "      <td>06/28/2019 10:48:00 AM</td>\n",
       "      <td>06/28/2019 10:48:00 AM</td>\n",
       "      <td>06/24/2017</td>\n",
       "      <td>Transfer</td>\n",
       "      <td>Snr</td>\n",
       "      <td>Cat</td>\n",
       "      <td>Neutered Male</td>\n",
       "      <td>2 years</td>\n",
       "      <td>Domestic Shorthair</td>\n",
       "      <td>White/Orange</td>\n",
       "    </tr>\n",
       "  </tbody>\n",
       "</table>\n",
       "</div>"
      ],
      "text/plain": [
       "  Animal ID      Name                DateTime               MonthYear  \\\n",
       "0   A706233  Champion  06/28/2019 11:52:00 AM  06/28/2019 11:52:00 AM   \n",
       "1   A798591       NaN  06/28/2019 11:36:00 AM  06/28/2019 11:36:00 AM   \n",
       "2   A798314       NaN  06/28/2019 11:22:00 AM  06/28/2019 11:22:00 AM   \n",
       "3   A798599       NaN  06/28/2019 11:19:00 AM  06/28/2019 11:19:00 AM   \n",
       "4   A798301       NaN  06/28/2019 10:48:00 AM  06/28/2019 10:48:00 AM   \n",
       "\n",
       "  Date of Birth     Outcome Type Outcome Subtype Animal Type Sex upon Outcome  \\\n",
       "0    01/26/2015  Return to Owner             NaN         Dog    Neutered Male   \n",
       "1    06/27/2016       Euthanasia       Suffering         Cat          Unknown   \n",
       "2    06/24/2017         Transfer         Partner         Dog    Intact Female   \n",
       "3    06/28/2019       Euthanasia       Suffering         Cat          Unknown   \n",
       "4    06/24/2017         Transfer             Snr         Cat    Neutered Male   \n",
       "\n",
       "  Age upon Outcome                Breed         Color  \n",
       "0          4 years  Doberman Pinsch Mix     Black/Tan  \n",
       "1              NaN   Domestic Shorthair  Orange Tabby  \n",
       "2          2 years       Lhasa Apso Mix         White  \n",
       "3              NaN   Domestic Shorthair   Brown Tabby  \n",
       "4          2 years   Domestic Shorthair  White/Orange  "
      ]
     },
     "execution_count": 35,
     "metadata": {},
     "output_type": "execute_result"
    }
   ],
   "source": [
    "shelter_data=pd.read_csv('https://data.austintexas.gov/api/views/9t4d-g238/rows.csv?accessType=DOWNLOAD') \n",
    "#this link is copied directly from the download option for CSV\n",
    "\n",
    "shelter_data.head()"
   ]
  },
  {
   "cell_type": "markdown",
   "metadata": {},
   "source": [
    "Now that we can read in data, let's get more comfortable with our Pandas data structures."
   ]
  },
  {
   "cell_type": "code",
   "execution_count": 36,
   "metadata": {},
   "outputs": [
    {
     "data": {
      "text/plain": [
       "pandas.core.frame.DataFrame"
      ]
     },
     "execution_count": 36,
     "metadata": {},
     "output_type": "execute_result"
    }
   ],
   "source": [
    "type(shelter_data)"
   ]
  },
  {
   "cell_type": "code",
   "execution_count": 40,
   "metadata": {},
   "outputs": [
    {
     "data": {
      "text/plain": [
       "92213"
      ]
     },
     "execution_count": 40,
     "metadata": {},
     "output_type": "execute_result"
    }
   ],
   "source": [
    "ID_series=shelter_data['Animal ID'] #you can specify particular columns in a data frame in this way.\n",
    "\n",
    "type(ID_series)\n",
    "len(ID_series.unique())"
   ]
  },
  {
   "cell_type": "code",
   "execution_count": 41,
   "metadata": {},
   "outputs": [
    {
     "data": {
      "text/plain": [
       "A721033    30\n",
       "A718223    14\n",
       "A706536    11\n",
       "A718877    11\n",
       "A716018     9\n",
       "Name: Animal ID, dtype: int64"
      ]
     },
     "execution_count": 41,
     "metadata": {},
     "output_type": "execute_result"
    }
   ],
   "source": [
    "ID_series.value_counts().head()"
   ]
  },
  {
   "cell_type": "code",
   "execution_count": 44,
   "metadata": {},
   "outputs": [
    {
     "data": {
      "text/html": [
       "<div>\n",
       "<style scoped>\n",
       "    .dataframe tbody tr th:only-of-type {\n",
       "        vertical-align: middle;\n",
       "    }\n",
       "\n",
       "    .dataframe tbody tr th {\n",
       "        vertical-align: top;\n",
       "    }\n",
       "\n",
       "    .dataframe thead th {\n",
       "        text-align: right;\n",
       "    }\n",
       "</style>\n",
       "<table border=\"1\" class=\"dataframe\">\n",
       "  <thead>\n",
       "    <tr style=\"text-align: right;\">\n",
       "      <th></th>\n",
       "      <th>Animal ID</th>\n",
       "      <th>Name</th>\n",
       "      <th>DateTime</th>\n",
       "      <th>MonthYear</th>\n",
       "      <th>Date of Birth</th>\n",
       "      <th>Outcome Type</th>\n",
       "      <th>Outcome Subtype</th>\n",
       "      <th>Animal Type</th>\n",
       "      <th>Sex upon Outcome</th>\n",
       "      <th>Age upon Outcome</th>\n",
       "      <th>Breed</th>\n",
       "      <th>Color</th>\n",
       "    </tr>\n",
       "  </thead>\n",
       "  <tbody>\n",
       "    <tr>\n",
       "      <th>2570</th>\n",
       "      <td>A721033</td>\n",
       "      <td>Lil Bit</td>\n",
       "      <td>05/21/2019 02:42:00 PM</td>\n",
       "      <td>05/21/2019 02:42:00 PM</td>\n",
       "      <td>05/20/2015</td>\n",
       "      <td>Return to Owner</td>\n",
       "      <td>NaN</td>\n",
       "      <td>Dog</td>\n",
       "      <td>Neutered Male</td>\n",
       "      <td>4 years</td>\n",
       "      <td>Rat Terrier Mix</td>\n",
       "      <td>Tricolor/Brown Brindle</td>\n",
       "    </tr>\n",
       "    <tr>\n",
       "      <th>3497</th>\n",
       "      <td>A721033</td>\n",
       "      <td>Lil Bit</td>\n",
       "      <td>05/04/2019 08:37:00 AM</td>\n",
       "      <td>05/04/2019 08:37:00 AM</td>\n",
       "      <td>05/20/2015</td>\n",
       "      <td>Return to Owner</td>\n",
       "      <td>NaN</td>\n",
       "      <td>Dog</td>\n",
       "      <td>Neutered Male</td>\n",
       "      <td>3 years</td>\n",
       "      <td>Rat Terrier Mix</td>\n",
       "      <td>Tricolor/Brown Brindle</td>\n",
       "    </tr>\n",
       "    <tr>\n",
       "      <th>6072</th>\n",
       "      <td>A721033</td>\n",
       "      <td>Lil Bit</td>\n",
       "      <td>03/11/2019 04:27:00 PM</td>\n",
       "      <td>03/11/2019 04:27:00 PM</td>\n",
       "      <td>05/20/2015</td>\n",
       "      <td>Return to Owner</td>\n",
       "      <td>NaN</td>\n",
       "      <td>Dog</td>\n",
       "      <td>Neutered Male</td>\n",
       "      <td>3 years</td>\n",
       "      <td>Rat Terrier Mix</td>\n",
       "      <td>Tricolor/Brown Brindle</td>\n",
       "    </tr>\n",
       "    <tr>\n",
       "      <th>6672</th>\n",
       "      <td>A721033</td>\n",
       "      <td>Lil Bit</td>\n",
       "      <td>02/26/2019 07:00:00 PM</td>\n",
       "      <td>02/26/2019 07:00:00 PM</td>\n",
       "      <td>05/20/2015</td>\n",
       "      <td>Return to Owner</td>\n",
       "      <td>NaN</td>\n",
       "      <td>Dog</td>\n",
       "      <td>Neutered Male</td>\n",
       "      <td>3 years</td>\n",
       "      <td>Rat Terrier Mix</td>\n",
       "      <td>Tricolor/Brown Brindle</td>\n",
       "    </tr>\n",
       "    <tr>\n",
       "      <th>6999</th>\n",
       "      <td>A721033</td>\n",
       "      <td>Lil Bit</td>\n",
       "      <td>02/18/2019 04:46:00 PM</td>\n",
       "      <td>02/18/2019 04:46:00 PM</td>\n",
       "      <td>05/20/2015</td>\n",
       "      <td>Return to Owner</td>\n",
       "      <td>NaN</td>\n",
       "      <td>Dog</td>\n",
       "      <td>Neutered Male</td>\n",
       "      <td>3 years</td>\n",
       "      <td>Rat Terrier Mix</td>\n",
       "      <td>Tricolor/Brown Brindle</td>\n",
       "    </tr>\n",
       "    <tr>\n",
       "      <th>7269</th>\n",
       "      <td>A721033</td>\n",
       "      <td>Lil Bit</td>\n",
       "      <td>02/12/2019 03:20:00 PM</td>\n",
       "      <td>02/12/2019 03:20:00 PM</td>\n",
       "      <td>05/20/2015</td>\n",
       "      <td>Return to Owner</td>\n",
       "      <td>NaN</td>\n",
       "      <td>Dog</td>\n",
       "      <td>Neutered Male</td>\n",
       "      <td>3 years</td>\n",
       "      <td>Rat Terrier Mix</td>\n",
       "      <td>Tricolor/Brown Brindle</td>\n",
       "    </tr>\n",
       "    <tr>\n",
       "      <th>9244</th>\n",
       "      <td>A721033</td>\n",
       "      <td>Lil Bit</td>\n",
       "      <td>12/27/2018 03:41:00 PM</td>\n",
       "      <td>12/27/2018 03:41:00 PM</td>\n",
       "      <td>05/20/2015</td>\n",
       "      <td>Rto-Adopt</td>\n",
       "      <td>NaN</td>\n",
       "      <td>Dog</td>\n",
       "      <td>Neutered Male</td>\n",
       "      <td>3 years</td>\n",
       "      <td>Rat Terrier Mix</td>\n",
       "      <td>Tricolor/Brown Brindle</td>\n",
       "    </tr>\n",
       "    <tr>\n",
       "      <th>10691</th>\n",
       "      <td>A721033</td>\n",
       "      <td>Lil Bit</td>\n",
       "      <td>11/24/2018 04:25:00 PM</td>\n",
       "      <td>11/24/2018 04:25:00 PM</td>\n",
       "      <td>05/20/2015</td>\n",
       "      <td>Return to Owner</td>\n",
       "      <td>NaN</td>\n",
       "      <td>Dog</td>\n",
       "      <td>Neutered Male</td>\n",
       "      <td>3 years</td>\n",
       "      <td>Rat Terrier Mix</td>\n",
       "      <td>Tricolor/Brown Brindle</td>\n",
       "    </tr>\n",
       "    <tr>\n",
       "      <th>13305</th>\n",
       "      <td>A721033</td>\n",
       "      <td>Lil Bit</td>\n",
       "      <td>09/25/2018 06:14:00 PM</td>\n",
       "      <td>09/25/2018 06:14:00 PM</td>\n",
       "      <td>05/20/2015</td>\n",
       "      <td>Return to Owner</td>\n",
       "      <td>NaN</td>\n",
       "      <td>Dog</td>\n",
       "      <td>Neutered Male</td>\n",
       "      <td>3 years</td>\n",
       "      <td>Rat Terrier Mix</td>\n",
       "      <td>Tricolor/Brown Brindle</td>\n",
       "    </tr>\n",
       "    <tr>\n",
       "      <th>13444</th>\n",
       "      <td>A721033</td>\n",
       "      <td>Lil Bit</td>\n",
       "      <td>09/23/2018 02:22:00 PM</td>\n",
       "      <td>09/23/2018 02:22:00 PM</td>\n",
       "      <td>05/20/2015</td>\n",
       "      <td>Return to Owner</td>\n",
       "      <td>NaN</td>\n",
       "      <td>Dog</td>\n",
       "      <td>Neutered Male</td>\n",
       "      <td>3 years</td>\n",
       "      <td>Rat Terrier Mix</td>\n",
       "      <td>Tricolor/Brown Brindle</td>\n",
       "    </tr>\n",
       "    <tr>\n",
       "      <th>14217</th>\n",
       "      <td>A721033</td>\n",
       "      <td>Lil Bit</td>\n",
       "      <td>09/08/2018 01:55:00 PM</td>\n",
       "      <td>09/08/2018 01:55:00 PM</td>\n",
       "      <td>05/20/2015</td>\n",
       "      <td>Return to Owner</td>\n",
       "      <td>NaN</td>\n",
       "      <td>Dog</td>\n",
       "      <td>Neutered Male</td>\n",
       "      <td>3 years</td>\n",
       "      <td>Rat Terrier Mix</td>\n",
       "      <td>Tricolor/Brown Brindle</td>\n",
       "    </tr>\n",
       "    <tr>\n",
       "      <th>14994</th>\n",
       "      <td>A721033</td>\n",
       "      <td>Lil Bit</td>\n",
       "      <td>08/22/2018 01:21:00 PM</td>\n",
       "      <td>08/22/2018 01:21:00 PM</td>\n",
       "      <td>05/20/2015</td>\n",
       "      <td>Return to Owner</td>\n",
       "      <td>NaN</td>\n",
       "      <td>Dog</td>\n",
       "      <td>Neutered Male</td>\n",
       "      <td>3 years</td>\n",
       "      <td>Rat Terrier Mix</td>\n",
       "      <td>Tricolor/Brown Brindle</td>\n",
       "    </tr>\n",
       "    <tr>\n",
       "      <th>15810</th>\n",
       "      <td>A721033</td>\n",
       "      <td>Lil Bit</td>\n",
       "      <td>08/09/2018 11:13:00 AM</td>\n",
       "      <td>08/09/2018 11:13:00 AM</td>\n",
       "      <td>05/20/2015</td>\n",
       "      <td>Return to Owner</td>\n",
       "      <td>NaN</td>\n",
       "      <td>Dog</td>\n",
       "      <td>Neutered Male</td>\n",
       "      <td>3 years</td>\n",
       "      <td>Rat Terrier Mix</td>\n",
       "      <td>Tricolor/Brown Brindle</td>\n",
       "    </tr>\n",
       "    <tr>\n",
       "      <th>19851</th>\n",
       "      <td>A721033</td>\n",
       "      <td>Lil Bit</td>\n",
       "      <td>05/26/2018 03:52:00 PM</td>\n",
       "      <td>05/26/2018 03:52:00 PM</td>\n",
       "      <td>05/20/2015</td>\n",
       "      <td>Return to Owner</td>\n",
       "      <td>NaN</td>\n",
       "      <td>Dog</td>\n",
       "      <td>Neutered Male</td>\n",
       "      <td>3 years</td>\n",
       "      <td>Rat Terrier Mix</td>\n",
       "      <td>Tricolor/Brown Brindle</td>\n",
       "    </tr>\n",
       "    <tr>\n",
       "      <th>21265</th>\n",
       "      <td>A721033</td>\n",
       "      <td>Lil Bit</td>\n",
       "      <td>04/24/2018 04:12:00 PM</td>\n",
       "      <td>04/24/2018 04:12:00 PM</td>\n",
       "      <td>05/20/2015</td>\n",
       "      <td>Return to Owner</td>\n",
       "      <td>NaN</td>\n",
       "      <td>Dog</td>\n",
       "      <td>Neutered Male</td>\n",
       "      <td>2 years</td>\n",
       "      <td>Rat Terrier Mix</td>\n",
       "      <td>Tricolor/Brown Brindle</td>\n",
       "    </tr>\n",
       "    <tr>\n",
       "      <th>21549</th>\n",
       "      <td>A721033</td>\n",
       "      <td>Lil Bit</td>\n",
       "      <td>04/17/2018 11:07:00 AM</td>\n",
       "      <td>04/17/2018 11:07:00 AM</td>\n",
       "      <td>05/20/2015</td>\n",
       "      <td>Return to Owner</td>\n",
       "      <td>NaN</td>\n",
       "      <td>Dog</td>\n",
       "      <td>Neutered Male</td>\n",
       "      <td>2 years</td>\n",
       "      <td>Rat Terrier Mix</td>\n",
       "      <td>Tricolor/Brown Brindle</td>\n",
       "    </tr>\n",
       "    <tr>\n",
       "      <th>21812</th>\n",
       "      <td>A721033</td>\n",
       "      <td>Lil Bit</td>\n",
       "      <td>04/11/2018 12:37:00 PM</td>\n",
       "      <td>04/11/2018 12:37:00 PM</td>\n",
       "      <td>05/20/2015</td>\n",
       "      <td>Return to Owner</td>\n",
       "      <td>NaN</td>\n",
       "      <td>Dog</td>\n",
       "      <td>Neutered Male</td>\n",
       "      <td>2 years</td>\n",
       "      <td>Rat Terrier Mix</td>\n",
       "      <td>Tricolor/Brown Brindle</td>\n",
       "    </tr>\n",
       "    <tr>\n",
       "      <th>22922</th>\n",
       "      <td>A721033</td>\n",
       "      <td>Lil Bit</td>\n",
       "      <td>03/16/2018 04:04:00 PM</td>\n",
       "      <td>03/16/2018 04:04:00 PM</td>\n",
       "      <td>05/20/2015</td>\n",
       "      <td>Return to Owner</td>\n",
       "      <td>NaN</td>\n",
       "      <td>Dog</td>\n",
       "      <td>Neutered Male</td>\n",
       "      <td>2 years</td>\n",
       "      <td>Rat Terrier Mix</td>\n",
       "      <td>Tricolor/Brown Brindle</td>\n",
       "    </tr>\n",
       "    <tr>\n",
       "      <th>23248</th>\n",
       "      <td>A721033</td>\n",
       "      <td>Lil Bit</td>\n",
       "      <td>03/08/2018 03:04:00 PM</td>\n",
       "      <td>03/08/2018 03:04:00 PM</td>\n",
       "      <td>05/20/2015</td>\n",
       "      <td>Return to Owner</td>\n",
       "      <td>NaN</td>\n",
       "      <td>Dog</td>\n",
       "      <td>Neutered Male</td>\n",
       "      <td>2 years</td>\n",
       "      <td>Rat Terrier Mix</td>\n",
       "      <td>Tricolor/Brown Brindle</td>\n",
       "    </tr>\n",
       "    <tr>\n",
       "      <th>23777</th>\n",
       "      <td>A721033</td>\n",
       "      <td>Lil Bit</td>\n",
       "      <td>02/23/2018 01:06:00 PM</td>\n",
       "      <td>02/23/2018 01:06:00 PM</td>\n",
       "      <td>05/20/2015</td>\n",
       "      <td>Return to Owner</td>\n",
       "      <td>NaN</td>\n",
       "      <td>Dog</td>\n",
       "      <td>Neutered Male</td>\n",
       "      <td>2 years</td>\n",
       "      <td>Rat Terrier Mix</td>\n",
       "      <td>Tricolor/Brown Brindle</td>\n",
       "    </tr>\n",
       "    <tr>\n",
       "      <th>40127</th>\n",
       "      <td>A721033</td>\n",
       "      <td>Lil Bit</td>\n",
       "      <td>03/16/2017 12:50:00 PM</td>\n",
       "      <td>03/16/2017 12:50:00 PM</td>\n",
       "      <td>05/20/2015</td>\n",
       "      <td>Return to Owner</td>\n",
       "      <td>NaN</td>\n",
       "      <td>Dog</td>\n",
       "      <td>Neutered Male</td>\n",
       "      <td>1 year</td>\n",
       "      <td>Rat Terrier Mix</td>\n",
       "      <td>Tricolor/Brown Brindle</td>\n",
       "    </tr>\n",
       "    <tr>\n",
       "      <th>41792</th>\n",
       "      <td>A721033</td>\n",
       "      <td>Lil Bit</td>\n",
       "      <td>02/07/2017 05:26:00 PM</td>\n",
       "      <td>02/07/2017 05:26:00 PM</td>\n",
       "      <td>05/20/2015</td>\n",
       "      <td>Return to Owner</td>\n",
       "      <td>NaN</td>\n",
       "      <td>Dog</td>\n",
       "      <td>Neutered Male</td>\n",
       "      <td>1 year</td>\n",
       "      <td>Rat Terrier Mix</td>\n",
       "      <td>Tricolor/Brown Brindle</td>\n",
       "    </tr>\n",
       "    <tr>\n",
       "      <th>42023</th>\n",
       "      <td>A721033</td>\n",
       "      <td>Lil Bit</td>\n",
       "      <td>02/02/2017 11:19:00 AM</td>\n",
       "      <td>02/02/2017 11:19:00 AM</td>\n",
       "      <td>05/20/2015</td>\n",
       "      <td>Return to Owner</td>\n",
       "      <td>NaN</td>\n",
       "      <td>Dog</td>\n",
       "      <td>Neutered Male</td>\n",
       "      <td>1 year</td>\n",
       "      <td>Rat Terrier Mix</td>\n",
       "      <td>Tricolor/Brown Brindle</td>\n",
       "    </tr>\n",
       "    <tr>\n",
       "      <th>42270</th>\n",
       "      <td>A721033</td>\n",
       "      <td>Lil Bit</td>\n",
       "      <td>01/28/2017 03:22:00 PM</td>\n",
       "      <td>01/28/2017 03:22:00 PM</td>\n",
       "      <td>05/20/2015</td>\n",
       "      <td>Return to Owner</td>\n",
       "      <td>NaN</td>\n",
       "      <td>Dog</td>\n",
       "      <td>Neutered Male</td>\n",
       "      <td>1 year</td>\n",
       "      <td>Rat Terrier Mix</td>\n",
       "      <td>Tricolor/Brown Brindle</td>\n",
       "    </tr>\n",
       "    <tr>\n",
       "      <th>43017</th>\n",
       "      <td>A721033</td>\n",
       "      <td>Lil Bit</td>\n",
       "      <td>01/10/2017 04:20:00 PM</td>\n",
       "      <td>01/10/2017 04:20:00 PM</td>\n",
       "      <td>05/20/2015</td>\n",
       "      <td>Return to Owner</td>\n",
       "      <td>NaN</td>\n",
       "      <td>Dog</td>\n",
       "      <td>Neutered Male</td>\n",
       "      <td>1 year</td>\n",
       "      <td>Rat Terrier Mix</td>\n",
       "      <td>Tricolor/Brown Brindle</td>\n",
       "    </tr>\n",
       "    <tr>\n",
       "      <th>44130</th>\n",
       "      <td>A721033</td>\n",
       "      <td>Lil Bit</td>\n",
       "      <td>12/16/2016 11:32:00 AM</td>\n",
       "      <td>12/16/2016 11:32:00 AM</td>\n",
       "      <td>05/20/2015</td>\n",
       "      <td>Return to Owner</td>\n",
       "      <td>NaN</td>\n",
       "      <td>Dog</td>\n",
       "      <td>Neutered Male</td>\n",
       "      <td>1 year</td>\n",
       "      <td>Rat Terrier Mix</td>\n",
       "      <td>Tricolor/Brown Brindle</td>\n",
       "    </tr>\n",
       "    <tr>\n",
       "      <th>46698</th>\n",
       "      <td>A721033</td>\n",
       "      <td>Lil Bit</td>\n",
       "      <td>10/21/2016 06:55:00 PM</td>\n",
       "      <td>10/21/2016 06:55:00 PM</td>\n",
       "      <td>05/20/2015</td>\n",
       "      <td>Return to Owner</td>\n",
       "      <td>NaN</td>\n",
       "      <td>Dog</td>\n",
       "      <td>Neutered Male</td>\n",
       "      <td>1 year</td>\n",
       "      <td>Rat Terrier Mix</td>\n",
       "      <td>Tricolor/Brown Brindle</td>\n",
       "    </tr>\n",
       "    <tr>\n",
       "      <th>48671</th>\n",
       "      <td>A721033</td>\n",
       "      <td>Lil Bit</td>\n",
       "      <td>09/12/2016 01:40:00 PM</td>\n",
       "      <td>09/12/2016 01:40:00 PM</td>\n",
       "      <td>05/20/2015</td>\n",
       "      <td>Return to Owner</td>\n",
       "      <td>NaN</td>\n",
       "      <td>Dog</td>\n",
       "      <td>Neutered Male</td>\n",
       "      <td>1 year</td>\n",
       "      <td>Rat Terrier Mix</td>\n",
       "      <td>Tricolor/Brown Brindle</td>\n",
       "    </tr>\n",
       "    <tr>\n",
       "      <th>51875</th>\n",
       "      <td>A721033</td>\n",
       "      <td>Lil Bit</td>\n",
       "      <td>07/11/2016 05:44:00 PM</td>\n",
       "      <td>07/11/2016 05:44:00 PM</td>\n",
       "      <td>05/20/2015</td>\n",
       "      <td>Return to Owner</td>\n",
       "      <td>NaN</td>\n",
       "      <td>Dog</td>\n",
       "      <td>Neutered Male</td>\n",
       "      <td>1 year</td>\n",
       "      <td>Rat Terrier Mix</td>\n",
       "      <td>Tricolor/Brown Brindle</td>\n",
       "    </tr>\n",
       "    <tr>\n",
       "      <th>59052</th>\n",
       "      <td>A721033</td>\n",
       "      <td>Lil Bit</td>\n",
       "      <td>02/20/2016 04:18:00 PM</td>\n",
       "      <td>02/20/2016 04:18:00 PM</td>\n",
       "      <td>05/20/2015</td>\n",
       "      <td>Return to Owner</td>\n",
       "      <td>NaN</td>\n",
       "      <td>Dog</td>\n",
       "      <td>Neutered Male</td>\n",
       "      <td>9 months</td>\n",
       "      <td>Rat Terrier Mix</td>\n",
       "      <td>Tricolor/Brown Brindle</td>\n",
       "    </tr>\n",
       "  </tbody>\n",
       "</table>\n",
       "</div>"
      ],
      "text/plain": [
       "      Animal ID     Name                DateTime               MonthYear  \\\n",
       "2570    A721033  Lil Bit  05/21/2019 02:42:00 PM  05/21/2019 02:42:00 PM   \n",
       "3497    A721033  Lil Bit  05/04/2019 08:37:00 AM  05/04/2019 08:37:00 AM   \n",
       "6072    A721033  Lil Bit  03/11/2019 04:27:00 PM  03/11/2019 04:27:00 PM   \n",
       "6672    A721033  Lil Bit  02/26/2019 07:00:00 PM  02/26/2019 07:00:00 PM   \n",
       "6999    A721033  Lil Bit  02/18/2019 04:46:00 PM  02/18/2019 04:46:00 PM   \n",
       "7269    A721033  Lil Bit  02/12/2019 03:20:00 PM  02/12/2019 03:20:00 PM   \n",
       "9244    A721033  Lil Bit  12/27/2018 03:41:00 PM  12/27/2018 03:41:00 PM   \n",
       "10691   A721033  Lil Bit  11/24/2018 04:25:00 PM  11/24/2018 04:25:00 PM   \n",
       "13305   A721033  Lil Bit  09/25/2018 06:14:00 PM  09/25/2018 06:14:00 PM   \n",
       "13444   A721033  Lil Bit  09/23/2018 02:22:00 PM  09/23/2018 02:22:00 PM   \n",
       "14217   A721033  Lil Bit  09/08/2018 01:55:00 PM  09/08/2018 01:55:00 PM   \n",
       "14994   A721033  Lil Bit  08/22/2018 01:21:00 PM  08/22/2018 01:21:00 PM   \n",
       "15810   A721033  Lil Bit  08/09/2018 11:13:00 AM  08/09/2018 11:13:00 AM   \n",
       "19851   A721033  Lil Bit  05/26/2018 03:52:00 PM  05/26/2018 03:52:00 PM   \n",
       "21265   A721033  Lil Bit  04/24/2018 04:12:00 PM  04/24/2018 04:12:00 PM   \n",
       "21549   A721033  Lil Bit  04/17/2018 11:07:00 AM  04/17/2018 11:07:00 AM   \n",
       "21812   A721033  Lil Bit  04/11/2018 12:37:00 PM  04/11/2018 12:37:00 PM   \n",
       "22922   A721033  Lil Bit  03/16/2018 04:04:00 PM  03/16/2018 04:04:00 PM   \n",
       "23248   A721033  Lil Bit  03/08/2018 03:04:00 PM  03/08/2018 03:04:00 PM   \n",
       "23777   A721033  Lil Bit  02/23/2018 01:06:00 PM  02/23/2018 01:06:00 PM   \n",
       "40127   A721033  Lil Bit  03/16/2017 12:50:00 PM  03/16/2017 12:50:00 PM   \n",
       "41792   A721033  Lil Bit  02/07/2017 05:26:00 PM  02/07/2017 05:26:00 PM   \n",
       "42023   A721033  Lil Bit  02/02/2017 11:19:00 AM  02/02/2017 11:19:00 AM   \n",
       "42270   A721033  Lil Bit  01/28/2017 03:22:00 PM  01/28/2017 03:22:00 PM   \n",
       "43017   A721033  Lil Bit  01/10/2017 04:20:00 PM  01/10/2017 04:20:00 PM   \n",
       "44130   A721033  Lil Bit  12/16/2016 11:32:00 AM  12/16/2016 11:32:00 AM   \n",
       "46698   A721033  Lil Bit  10/21/2016 06:55:00 PM  10/21/2016 06:55:00 PM   \n",
       "48671   A721033  Lil Bit  09/12/2016 01:40:00 PM  09/12/2016 01:40:00 PM   \n",
       "51875   A721033  Lil Bit  07/11/2016 05:44:00 PM  07/11/2016 05:44:00 PM   \n",
       "59052   A721033  Lil Bit  02/20/2016 04:18:00 PM  02/20/2016 04:18:00 PM   \n",
       "\n",
       "      Date of Birth     Outcome Type Outcome Subtype Animal Type  \\\n",
       "2570     05/20/2015  Return to Owner             NaN         Dog   \n",
       "3497     05/20/2015  Return to Owner             NaN         Dog   \n",
       "6072     05/20/2015  Return to Owner             NaN         Dog   \n",
       "6672     05/20/2015  Return to Owner             NaN         Dog   \n",
       "6999     05/20/2015  Return to Owner             NaN         Dog   \n",
       "7269     05/20/2015  Return to Owner             NaN         Dog   \n",
       "9244     05/20/2015        Rto-Adopt             NaN         Dog   \n",
       "10691    05/20/2015  Return to Owner             NaN         Dog   \n",
       "13305    05/20/2015  Return to Owner             NaN         Dog   \n",
       "13444    05/20/2015  Return to Owner             NaN         Dog   \n",
       "14217    05/20/2015  Return to Owner             NaN         Dog   \n",
       "14994    05/20/2015  Return to Owner             NaN         Dog   \n",
       "15810    05/20/2015  Return to Owner             NaN         Dog   \n",
       "19851    05/20/2015  Return to Owner             NaN         Dog   \n",
       "21265    05/20/2015  Return to Owner             NaN         Dog   \n",
       "21549    05/20/2015  Return to Owner             NaN         Dog   \n",
       "21812    05/20/2015  Return to Owner             NaN         Dog   \n",
       "22922    05/20/2015  Return to Owner             NaN         Dog   \n",
       "23248    05/20/2015  Return to Owner             NaN         Dog   \n",
       "23777    05/20/2015  Return to Owner             NaN         Dog   \n",
       "40127    05/20/2015  Return to Owner             NaN         Dog   \n",
       "41792    05/20/2015  Return to Owner             NaN         Dog   \n",
       "42023    05/20/2015  Return to Owner             NaN         Dog   \n",
       "42270    05/20/2015  Return to Owner             NaN         Dog   \n",
       "43017    05/20/2015  Return to Owner             NaN         Dog   \n",
       "44130    05/20/2015  Return to Owner             NaN         Dog   \n",
       "46698    05/20/2015  Return to Owner             NaN         Dog   \n",
       "48671    05/20/2015  Return to Owner             NaN         Dog   \n",
       "51875    05/20/2015  Return to Owner             NaN         Dog   \n",
       "59052    05/20/2015  Return to Owner             NaN         Dog   \n",
       "\n",
       "      Sex upon Outcome Age upon Outcome            Breed  \\\n",
       "2570     Neutered Male          4 years  Rat Terrier Mix   \n",
       "3497     Neutered Male          3 years  Rat Terrier Mix   \n",
       "6072     Neutered Male          3 years  Rat Terrier Mix   \n",
       "6672     Neutered Male          3 years  Rat Terrier Mix   \n",
       "6999     Neutered Male          3 years  Rat Terrier Mix   \n",
       "7269     Neutered Male          3 years  Rat Terrier Mix   \n",
       "9244     Neutered Male          3 years  Rat Terrier Mix   \n",
       "10691    Neutered Male          3 years  Rat Terrier Mix   \n",
       "13305    Neutered Male          3 years  Rat Terrier Mix   \n",
       "13444    Neutered Male          3 years  Rat Terrier Mix   \n",
       "14217    Neutered Male          3 years  Rat Terrier Mix   \n",
       "14994    Neutered Male          3 years  Rat Terrier Mix   \n",
       "15810    Neutered Male          3 years  Rat Terrier Mix   \n",
       "19851    Neutered Male          3 years  Rat Terrier Mix   \n",
       "21265    Neutered Male          2 years  Rat Terrier Mix   \n",
       "21549    Neutered Male          2 years  Rat Terrier Mix   \n",
       "21812    Neutered Male          2 years  Rat Terrier Mix   \n",
       "22922    Neutered Male          2 years  Rat Terrier Mix   \n",
       "23248    Neutered Male          2 years  Rat Terrier Mix   \n",
       "23777    Neutered Male          2 years  Rat Terrier Mix   \n",
       "40127    Neutered Male           1 year  Rat Terrier Mix   \n",
       "41792    Neutered Male           1 year  Rat Terrier Mix   \n",
       "42023    Neutered Male           1 year  Rat Terrier Mix   \n",
       "42270    Neutered Male           1 year  Rat Terrier Mix   \n",
       "43017    Neutered Male           1 year  Rat Terrier Mix   \n",
       "44130    Neutered Male           1 year  Rat Terrier Mix   \n",
       "46698    Neutered Male           1 year  Rat Terrier Mix   \n",
       "48671    Neutered Male           1 year  Rat Terrier Mix   \n",
       "51875    Neutered Male           1 year  Rat Terrier Mix   \n",
       "59052    Neutered Male         9 months  Rat Terrier Mix   \n",
       "\n",
       "                        Color  \n",
       "2570   Tricolor/Brown Brindle  \n",
       "3497   Tricolor/Brown Brindle  \n",
       "6072   Tricolor/Brown Brindle  \n",
       "6672   Tricolor/Brown Brindle  \n",
       "6999   Tricolor/Brown Brindle  \n",
       "7269   Tricolor/Brown Brindle  \n",
       "9244   Tricolor/Brown Brindle  \n",
       "10691  Tricolor/Brown Brindle  \n",
       "13305  Tricolor/Brown Brindle  \n",
       "13444  Tricolor/Brown Brindle  \n",
       "14217  Tricolor/Brown Brindle  \n",
       "14994  Tricolor/Brown Brindle  \n",
       "15810  Tricolor/Brown Brindle  \n",
       "19851  Tricolor/Brown Brindle  \n",
       "21265  Tricolor/Brown Brindle  \n",
       "21549  Tricolor/Brown Brindle  \n",
       "21812  Tricolor/Brown Brindle  \n",
       "22922  Tricolor/Brown Brindle  \n",
       "23248  Tricolor/Brown Brindle  \n",
       "23777  Tricolor/Brown Brindle  \n",
       "40127  Tricolor/Brown Brindle  \n",
       "41792  Tricolor/Brown Brindle  \n",
       "42023  Tricolor/Brown Brindle  \n",
       "42270  Tricolor/Brown Brindle  \n",
       "43017  Tricolor/Brown Brindle  \n",
       "44130  Tricolor/Brown Brindle  \n",
       "46698  Tricolor/Brown Brindle  \n",
       "48671  Tricolor/Brown Brindle  \n",
       "51875  Tricolor/Brown Brindle  \n",
       "59052  Tricolor/Brown Brindle  "
      ]
     },
     "execution_count": 44,
     "metadata": {},
     "output_type": "execute_result"
    }
   ],
   "source": [
    "shelter_data[shelter_data['Animal ID'] == 'A721033']"
   ]
  },
  {
   "cell_type": "markdown",
   "metadata": {},
   "source": [
    "### 4. Utilizing and identifying Pandas objects\n",
    "\n",
    "- What is a DataFrame object and what is a Series object? \n",
    "- How are they different from Python lists and dictionary objects?\n",
    "\n",
    "These are questions we will cover in this section. To start, let's start with this list of fruits."
   ]
  },
  {
   "cell_type": "code",
   "execution_count": 45,
   "metadata": {},
   "outputs": [
    {
     "name": "stdout",
     "output_type": "stream",
     "text": [
      "['Apple', 'Orange', 'Watermelon', 'Lemon', 'Mango']\n"
     ]
    }
   ],
   "source": [
    "#define your list here!\n",
    "\n",
    "fruits = ['Apple','Orange','Watermelon','Lemon','Mango']\n",
    "\n",
    "print(fruits)"
   ]
  },
  {
   "cell_type": "markdown",
   "metadata": {},
   "source": [
    "Using our list of fruits, we can create a pandas object called a 'series' which is much like an array or a vector."
   ]
  },
  {
   "cell_type": "code",
   "execution_count": 46,
   "metadata": {},
   "outputs": [
    {
     "name": "stdout",
     "output_type": "stream",
     "text": [
      "0         Apple\n",
      "1        Orange\n",
      "2    Watermelon\n",
      "3         Lemon\n",
      "4         Mango\n",
      "dtype: object\n"
     ]
    }
   ],
   "source": [
    "fruits_series = pd.Series(fruits)\n",
    "\n",
    "print(fruits_series)"
   ]
  },
  {
   "cell_type": "markdown",
   "metadata": {},
   "source": [
    "One difference between python **list objects** and pandas **series objects** is the fact that you can define the index _manually._"
   ]
  },
  {
   "cell_type": "code",
   "execution_count": 47,
   "metadata": {},
   "outputs": [
    {
     "name": "stdout",
     "output_type": "stream",
     "text": [
      "a         Apple\n",
      "b        Orange\n",
      "c    Watermelon\n",
      "d         Lemon\n",
      "e         Mango\n",
      "dtype: object\n"
     ]
    }
   ],
   "source": [
    "ind = ['a','b','c','d','e']\n",
    "\n",
    "fruits_series = pd.Series(fruits,index=ind)\n",
    "\n",
    "print(fruits_series)"
   ]
  },
  {
   "cell_type": "code",
   "execution_count": 48,
   "metadata": {},
   "outputs": [
    {
     "ename": "ValueError",
     "evalue": "Length of passed values is 5, index implies 2",
     "output_type": "error",
     "traceback": [
      "\u001b[0;31m---------------------------------------------------------------------------\u001b[0m",
      "\u001b[0;31mValueError\u001b[0m                                Traceback (most recent call last)",
      "\u001b[0;32m<ipython-input-48-c6d20b936973>\u001b[0m in \u001b[0;36m<module>\u001b[0;34m\u001b[0m\n\u001b[1;32m      1\u001b[0m \u001b[0mindices\u001b[0m \u001b[0;34m=\u001b[0m \u001b[0;34m[\u001b[0m\u001b[0;34m'g'\u001b[0m\u001b[0;34m,\u001b[0m \u001b[0;34m'c'\u001b[0m\u001b[0;34m]\u001b[0m\u001b[0;34m\u001b[0m\u001b[0;34m\u001b[0m\u001b[0m\n\u001b[1;32m      2\u001b[0m \u001b[0;34m\u001b[0m\u001b[0m\n\u001b[0;32m----> 3\u001b[0;31m \u001b[0mpd\u001b[0m\u001b[0;34m.\u001b[0m\u001b[0mSeries\u001b[0m\u001b[0;34m(\u001b[0m\u001b[0mfruits\u001b[0m\u001b[0;34m,\u001b[0m\u001b[0mindex\u001b[0m\u001b[0;34m=\u001b[0m\u001b[0mindices\u001b[0m\u001b[0;34m)\u001b[0m\u001b[0;34m\u001b[0m\u001b[0;34m\u001b[0m\u001b[0m\n\u001b[0m",
      "\u001b[0;32m/anaconda3/lib/python3.7/site-packages/pandas/core/series.py\u001b[0m in \u001b[0;36m__init__\u001b[0;34m(self, data, index, dtype, name, copy, fastpath)\u001b[0m\n\u001b[1;32m    247\u001b[0m                             \u001b[0;34m'Length of passed values is {val}, '\u001b[0m\u001b[0;34m\u001b[0m\u001b[0;34m\u001b[0m\u001b[0m\n\u001b[1;32m    248\u001b[0m                             \u001b[0;34m'index implies {ind}'\u001b[0m\u001b[0;34m\u001b[0m\u001b[0;34m\u001b[0m\u001b[0m\n\u001b[0;32m--> 249\u001b[0;31m                             .format(val=len(data), ind=len(index)))\n\u001b[0m\u001b[1;32m    250\u001b[0m                 \u001b[0;32mexcept\u001b[0m \u001b[0mTypeError\u001b[0m\u001b[0;34m:\u001b[0m\u001b[0;34m\u001b[0m\u001b[0;34m\u001b[0m\u001b[0m\n\u001b[1;32m    251\u001b[0m                     \u001b[0;32mpass\u001b[0m\u001b[0;34m\u001b[0m\u001b[0;34m\u001b[0m\u001b[0m\n",
      "\u001b[0;31mValueError\u001b[0m: Length of passed values is 5, index implies 2"
     ]
    }
   ],
   "source": [
    "indices = ['g', 'c']\n",
    "\n",
    "pd.Series(fruits,index=indices)"
   ]
  },
  {
   "cell_type": "markdown",
   "metadata": {},
   "source": [
    "With a partner, create your own custom series from a list of lists."
   ]
  },
  {
   "cell_type": "code",
   "execution_count": 53,
   "metadata": {},
   "outputs": [
    {
     "name": "stdout",
     "output_type": "stream",
     "text": [
      "['cat', 'dog', 'horse', 'cow', 'macaw']\n",
      "feline       cat\n",
      "canine       dog\n",
      "equinne    horse\n",
      "bovine       cow\n",
      "avian      macaw\n",
      "dtype: object\n"
     ]
    }
   ],
   "source": [
    "list_of_lists=[['cat'],['dog'],['horse'],['cow'],['macaw']]\n",
    "\n",
    "#create custom indices for your series\n",
    "ind2 = ['feline', 'canine', 'equinne', 'bovine', 'avian']\n",
    "list_of_animals = []\n",
    "#create the series using your list objects\n",
    "#HINT: use a for loop\n",
    "\n",
    "#print your series\n",
    "for item in list_of_lists:\n",
    "    list_of_animals.append(item[0])\n",
    "\n",
    "print(list_of_animals)\n",
    "\n",
    "animal_series = pd.Series(list_of_animals, index = ind2)\n",
    "\n",
    "print(animal_series)"
   ]
  },
  {
   "cell_type": "markdown",
   "metadata": {},
   "source": [
    "We can do a simliar thing with Python dictionaries. This time, however, we will create a DataFrame object from a python dictionary."
   ]
  },
  {
   "cell_type": "code",
   "execution_count": 54,
   "metadata": {},
   "outputs": [
    {
     "data": {
      "text/html": [
       "<div>\n",
       "<style scoped>\n",
       "    .dataframe tbody tr th:only-of-type {\n",
       "        vertical-align: middle;\n",
       "    }\n",
       "\n",
       "    .dataframe tbody tr th {\n",
       "        vertical-align: top;\n",
       "    }\n",
       "\n",
       "    .dataframe thead th {\n",
       "        text-align: right;\n",
       "    }\n",
       "</style>\n",
       "<table border=\"1\" class=\"dataframe\">\n",
       "  <thead>\n",
       "    <tr style=\"text-align: right;\">\n",
       "      <th></th>\n",
       "      <th>name</th>\n",
       "      <th>age</th>\n",
       "      <th>city</th>\n",
       "    </tr>\n",
       "  </thead>\n",
       "  <tbody>\n",
       "    <tr>\n",
       "      <th>0</th>\n",
       "      <td>Samantha</td>\n",
       "      <td>35</td>\n",
       "      <td>Houston</td>\n",
       "    </tr>\n",
       "    <tr>\n",
       "      <th>1</th>\n",
       "      <td>Alex</td>\n",
       "      <td>17</td>\n",
       "      <td>Seattle</td>\n",
       "    </tr>\n",
       "    <tr>\n",
       "      <th>2</th>\n",
       "      <td>Dante</td>\n",
       "      <td>26</td>\n",
       "      <td>New york</td>\n",
       "    </tr>\n",
       "  </tbody>\n",
       "</table>\n",
       "</div>"
      ],
      "text/plain": [
       "       name age      city\n",
       "0  Samantha  35   Houston\n",
       "1      Alex  17   Seattle\n",
       "2     Dante  26  New york"
      ]
     },
     "execution_count": 54,
     "metadata": {},
     "output_type": "execute_result"
    }
   ],
   "source": [
    "# Dictionary with list object in values\n",
    "student_dict = {\n",
    "    'name' : ['Samantha', 'Alex', 'Dante'],\n",
    "    'age' : ['35','17','26'],\n",
    "    'city' : ['Houston', 'Seattle', 'New york']\n",
    "}\n",
    "\n",
    "students_df = pd.DataFrame(student_dict)\n",
    "\n",
    "students_df.head()"
   ]
  },
  {
   "cell_type": "code",
   "execution_count": 55,
   "metadata": {},
   "outputs": [
    {
     "data": {
      "text/plain": [
       "name    object\n",
       "age     object\n",
       "city    object\n",
       "dtype: object"
      ]
     },
     "execution_count": 55,
     "metadata": {},
     "output_type": "execute_result"
    }
   ],
   "source": [
    "#to find data types of columns\n",
    "students_df.dtypes"
   ]
  },
  {
   "cell_type": "markdown",
   "metadata": {},
   "source": [
    "Let's change the data type of ages to int."
   ]
  },
  {
   "cell_type": "code",
   "execution_count": 56,
   "metadata": {},
   "outputs": [
    {
     "data": {
      "text/plain": [
       "name    object\n",
       "age      int64\n",
       "city    object\n",
       "dtype: object"
      ]
     },
     "execution_count": 56,
     "metadata": {},
     "output_type": "execute_result"
    }
   ],
   "source": [
    "students_df.age = students_df.age.astype(int)\n",
    "\n",
    "students_df.dtypes"
   ]
  },
  {
   "cell_type": "markdown",
   "metadata": {},
   "source": [
    "We can also use a custom index for these items. For example, we might want them to be the individual student ID numbers."
   ]
  },
  {
   "cell_type": "code",
   "execution_count": 85,
   "metadata": {},
   "outputs": [],
   "source": [
    "school_ids = ['1111','1145','0096']\n",
    "\n",
    "students_df = pd.DataFrame(student_dict,index=school_ids)\n",
    "\n",
    "students_df.head()"
   ]
  },
  {
   "cell_type": "markdown",
   "metadata": {},
   "source": [
    "Using Pandas, we can also rename columns."
   ]
  },
  {
   "cell_type": "code",
   "execution_count": null,
   "metadata": {},
   "outputs": [],
   "source": [
    "students_df.columns = ['NAME', 'AGE','HOME']\n",
    "students_df.head()"
   ]
  },
  {
   "cell_type": "markdown",
   "metadata": {},
   "source": [
    "Or, we can also change the column names using the rename function."
   ]
  },
  {
   "cell_type": "code",
   "execution_count": 84,
   "metadata": {},
   "outputs": [],
   "source": [
    "students_df.rename(columns={'AGE': 'YEARS'}, #inplace=True\n",
    "                  )\n",
    "students_df.head()"
   ]
  },
  {
   "cell_type": "markdown",
   "metadata": {},
   "source": [
    "Similarly, there is a tool to remove rows and columns from your DataFrame"
   ]
  },
  {
   "cell_type": "code",
   "execution_count": null,
   "metadata": {},
   "outputs": [],
   "source": [
    "students_df.drop(columns=['YEARS', 'HOME'])"
   ]
  },
  {
   "cell_type": "markdown",
   "metadata": {},
   "source": [
    "If you want the file to save over itself, use the option `inplace=True`.\n",
    "\n",
    "Every function has options. Let's read more about `drop` [here](https://pandas.pydata.org/pandas-docs/stable/reference/api/pandas.DataFrame.drop.html)"
   ]
  },
  {
   "cell_type": "code",
   "execution_count": 29,
   "metadata": {},
   "outputs": [
    {
     "data": {
      "text/html": [
       "<div>\n",
       "<style scoped>\n",
       "    .dataframe tbody tr th:only-of-type {\n",
       "        vertical-align: middle;\n",
       "    }\n",
       "\n",
       "    .dataframe tbody tr th {\n",
       "        vertical-align: top;\n",
       "    }\n",
       "\n",
       "    .dataframe thead th {\n",
       "        text-align: right;\n",
       "    }\n",
       "</style>\n",
       "<table border=\"1\" class=\"dataframe\">\n",
       "  <thead>\n",
       "    <tr style=\"text-align: right;\">\n",
       "      <th></th>\n",
       "      <th>name</th>\n",
       "      <th>age</th>\n",
       "      <th>city</th>\n",
       "    </tr>\n",
       "  </thead>\n",
       "  <tbody>\n",
       "    <tr>\n",
       "      <th>1145</th>\n",
       "      <td>Alex</td>\n",
       "      <td>17</td>\n",
       "      <td>Seattle</td>\n",
       "    </tr>\n",
       "    <tr>\n",
       "      <th>0096</th>\n",
       "      <td>Dante</td>\n",
       "      <td>26</td>\n",
       "      <td>New york</td>\n",
       "    </tr>\n",
       "  </tbody>\n",
       "</table>\n",
       "</div>"
      ],
      "text/plain": [
       "       name age      city\n",
       "1145   Alex  17   Seattle\n",
       "0096  Dante  26  New york"
      ]
     },
     "execution_count": 29,
     "metadata": {},
     "output_type": "execute_result"
    }
   ],
   "source": [
    "students_df.drop(index=['1111'])"
   ]
  },
  {
   "cell_type": "markdown",
   "metadata": {},
   "source": [
    "Adding columns can be a bit trickier, however."
   ]
  },
  {
   "cell_type": "markdown",
   "metadata": {},
   "source": [
    "#### Getting Started\n",
    "\n",
    "Let's define a function that returns a dataframe for us to work with. Note that this dataframe is created from a `list` of dictionaries, and each `dict` has identical _keys_ representing field names. The _values_ are the data to be stored in each field.\n",
    "\n",
    "This list-of-dictionaries format is a common way to represent _rows of data_ in Python.\n",
    "\n",
    "Pandas is not the only tool that supports it natively: **MongoDB** also represents each row of a dataset as a dictionary. This format is also useful when working with big data in Spark."
   ]
  },
  {
   "cell_type": "code",
   "execution_count": 94,
   "metadata": {},
   "outputs": [],
   "source": [
    "def get_customer_data():\n",
    "    \"\"\"Return a Pandas DataFrame containing imaginary customer data.\"\"\"\n",
    "    customers = [\n",
    "        {'name': 'Harmony', 'state': 'OR'},\n",
    "        {'name': 'Sarah', 'state': 'CA'},\n",
    "        {'name': 'Sharad', 'state': 'WA'},\n",
    "        {'name': 'CJ', 'state': 'NY'},\n",
    "        {'name': 'Jerry', 'state': 'OR'},\n",
    "    ]\n",
    "    return pd.DataFrame(customers)"
   ]
  },
  {
   "cell_type": "code",
   "execution_count": 95,
   "metadata": {},
   "outputs": [
    {
     "data": {
      "text/html": [
       "<div>\n",
       "<style scoped>\n",
       "    .dataframe tbody tr th:only-of-type {\n",
       "        vertical-align: middle;\n",
       "    }\n",
       "\n",
       "    .dataframe tbody tr th {\n",
       "        vertical-align: top;\n",
       "    }\n",
       "\n",
       "    .dataframe thead th {\n",
       "        text-align: right;\n",
       "    }\n",
       "</style>\n",
       "<table border=\"1\" class=\"dataframe\">\n",
       "  <thead>\n",
       "    <tr style=\"text-align: right;\">\n",
       "      <th></th>\n",
       "      <th>name</th>\n",
       "      <th>state</th>\n",
       "    </tr>\n",
       "  </thead>\n",
       "  <tbody>\n",
       "    <tr>\n",
       "      <th>0</th>\n",
       "      <td>Harmony</td>\n",
       "      <td>OR</td>\n",
       "    </tr>\n",
       "    <tr>\n",
       "      <th>1</th>\n",
       "      <td>Sarah</td>\n",
       "      <td>CA</td>\n",
       "    </tr>\n",
       "    <tr>\n",
       "      <th>2</th>\n",
       "      <td>Sharad</td>\n",
       "      <td>WA</td>\n",
       "    </tr>\n",
       "    <tr>\n",
       "      <th>3</th>\n",
       "      <td>CJ</td>\n",
       "      <td>NY</td>\n",
       "    </tr>\n",
       "    <tr>\n",
       "      <th>4</th>\n",
       "      <td>Jerry</td>\n",
       "      <td>OR</td>\n",
       "    </tr>\n",
       "  </tbody>\n",
       "</table>\n",
       "</div>"
      ],
      "text/plain": [
       "      name state\n",
       "0  Harmony    OR\n",
       "1    Sarah    CA\n",
       "2   Sharad    WA\n",
       "3       CJ    NY\n",
       "4    Jerry    OR"
      ]
     },
     "execution_count": 95,
     "metadata": {},
     "output_type": "execute_result"
    }
   ],
   "source": [
    "get_customer_data()"
   ]
  },
  {
   "cell_type": "markdown",
   "metadata": {},
   "source": [
    "#### Get the customer data"
   ]
  },
  {
   "cell_type": "code",
   "execution_count": 96,
   "metadata": {},
   "outputs": [],
   "source": [
    "customer_df = get_customer_data()"
   ]
  },
  {
   "cell_type": "markdown",
   "metadata": {},
   "source": [
    "#### Try to identify all Oregonian customers as hippies:\n"
   ]
  },
  {
   "cell_type": "code",
   "execution_count": 60,
   "metadata": {},
   "outputs": [
    {
     "name": "stderr",
     "output_type": "stream",
     "text": [
      "/anaconda3/lib/python3.7/site-packages/ipykernel_launcher.py:2: SettingWithCopyWarning: \n",
      "A value is trying to be set on a copy of a slice from a DataFrame.\n",
      "Try using .loc[row_indexer,col_indexer] = value instead\n",
      "\n",
      "See the caveats in the documentation: http://pandas.pydata.org/pandas-docs/stable/indexing.html#indexing-view-versus-copy\n",
      "  \n"
     ]
    }
   ],
   "source": [
    "oregon_customer_df = customer_df[customer_df['state'] == 'OR']\n",
    "oregon_customer_df['is_hippy'] = 1"
   ]
  },
  {
   "cell_type": "markdown",
   "metadata": {},
   "source": [
    "#### Try to identify all non-Oregonian customers as non-hippies:\n"
   ]
  },
  {
   "cell_type": "code",
   "execution_count": 61,
   "metadata": {},
   "outputs": [
    {
     "name": "stderr",
     "output_type": "stream",
     "text": [
      "/anaconda3/lib/python3.7/site-packages/ipykernel_launcher.py:2: SettingWithCopyWarning: \n",
      "A value is trying to be set on a copy of a slice from a DataFrame.\n",
      "Try using .loc[row_indexer,col_indexer] = value instead\n",
      "\n",
      "See the caveats in the documentation: http://pandas.pydata.org/pandas-docs/stable/indexing.html#indexing-view-versus-copy\n",
      "  \n"
     ]
    }
   ],
   "source": [
    "non_oregon_customer_df = customer_df[customer_df['state'] != 'OR']\n",
    "non_oregon_customer_df['is_hippy'] = 0"
   ]
  },
  {
   "cell_type": "markdown",
   "metadata": {},
   "source": [
    "#### We can do the same thing on a single line (and get the same warning):"
   ]
  },
  {
   "cell_type": "code",
   "execution_count": 62,
   "metadata": {},
   "outputs": [
    {
     "name": "stderr",
     "output_type": "stream",
     "text": [
      "/anaconda3/lib/python3.7/site-packages/ipykernel_launcher.py:1: SettingWithCopyWarning: \n",
      "A value is trying to be set on a copy of a slice from a DataFrame.\n",
      "Try using .loc[row_indexer,col_indexer] = value instead\n",
      "\n",
      "See the caveats in the documentation: http://pandas.pydata.org/pandas-docs/stable/indexing.html#indexing-view-versus-copy\n",
      "  \"\"\"Entry point for launching an IPython kernel.\n"
     ]
    }
   ],
   "source": [
    "customer_df[customer_df['state'] == 'OR']['is_hippy'] = 1"
   ]
  },
  {
   "cell_type": "markdown",
   "metadata": {},
   "source": [
    "#### See the results! (What's wrong?)"
   ]
  },
  {
   "cell_type": "code",
   "execution_count": 97,
   "metadata": {},
   "outputs": [
    {
     "data": {
      "text/html": [
       "<div>\n",
       "<style scoped>\n",
       "    .dataframe tbody tr th:only-of-type {\n",
       "        vertical-align: middle;\n",
       "    }\n",
       "\n",
       "    .dataframe tbody tr th {\n",
       "        vertical-align: top;\n",
       "    }\n",
       "\n",
       "    .dataframe thead th {\n",
       "        text-align: right;\n",
       "    }\n",
       "</style>\n",
       "<table border=\"1\" class=\"dataframe\">\n",
       "  <thead>\n",
       "    <tr style=\"text-align: right;\">\n",
       "      <th></th>\n",
       "      <th>name</th>\n",
       "      <th>state</th>\n",
       "    </tr>\n",
       "  </thead>\n",
       "  <tbody>\n",
       "    <tr>\n",
       "      <th>0</th>\n",
       "      <td>Harmony</td>\n",
       "      <td>OR</td>\n",
       "    </tr>\n",
       "    <tr>\n",
       "      <th>1</th>\n",
       "      <td>Sarah</td>\n",
       "      <td>CA</td>\n",
       "    </tr>\n",
       "    <tr>\n",
       "      <th>2</th>\n",
       "      <td>Sharad</td>\n",
       "      <td>WA</td>\n",
       "    </tr>\n",
       "    <tr>\n",
       "      <th>3</th>\n",
       "      <td>CJ</td>\n",
       "      <td>NY</td>\n",
       "    </tr>\n",
       "    <tr>\n",
       "      <th>4</th>\n",
       "      <td>Jerry</td>\n",
       "      <td>OR</td>\n",
       "    </tr>\n",
       "  </tbody>\n",
       "</table>\n",
       "</div>"
      ],
      "text/plain": [
       "      name state\n",
       "0  Harmony    OR\n",
       "1    Sarah    CA\n",
       "2   Sharad    WA\n",
       "3       CJ    NY\n",
       "4    Jerry    OR"
      ]
     },
     "execution_count": 97,
     "metadata": {},
     "output_type": "execute_result"
    }
   ],
   "source": [
    "customer_df"
   ]
  },
  {
   "cell_type": "markdown",
   "metadata": {},
   "source": [
    "#### What went wrong?\n",
    "\n",
    "1. First, we _sliced_ the original dataframe to include just Oregon customers.\n",
    "2. The _slice_ `oregon_customer_df` could be interpreted as a _new dataframe_ containing the selected rows in the original `customer_df`, or as a _pointer to_ the rows in the original dataframe. Pandas doesn't know which one we want.\n",
    "3. When we try to _modify_ or _set_ values in the slice, Pandas doesn't know what to do.\n",
    "\n",
    "#### One way to avoid the error is to explicitly make a copy of the slice with `df.copy()`:"
   ]
  },
  {
   "cell_type": "code",
   "execution_count": 98,
   "metadata": {},
   "outputs": [
    {
     "data": {
      "text/html": [
       "<div>\n",
       "<style scoped>\n",
       "    .dataframe tbody tr th:only-of-type {\n",
       "        vertical-align: middle;\n",
       "    }\n",
       "\n",
       "    .dataframe tbody tr th {\n",
       "        vertical-align: top;\n",
       "    }\n",
       "\n",
       "    .dataframe thead th {\n",
       "        text-align: right;\n",
       "    }\n",
       "</style>\n",
       "<table border=\"1\" class=\"dataframe\">\n",
       "  <thead>\n",
       "    <tr style=\"text-align: right;\">\n",
       "      <th></th>\n",
       "      <th>name</th>\n",
       "      <th>state</th>\n",
       "      <th>is_hippy</th>\n",
       "    </tr>\n",
       "  </thead>\n",
       "  <tbody>\n",
       "    <tr>\n",
       "      <th>0</th>\n",
       "      <td>Harmony</td>\n",
       "      <td>OR</td>\n",
       "      <td>1</td>\n",
       "    </tr>\n",
       "    <tr>\n",
       "      <th>4</th>\n",
       "      <td>Jerry</td>\n",
       "      <td>OR</td>\n",
       "      <td>1</td>\n",
       "    </tr>\n",
       "  </tbody>\n",
       "</table>\n",
       "</div>"
      ],
      "text/plain": [
       "      name state  is_hippy\n",
       "0  Harmony    OR         1\n",
       "4    Jerry    OR         1"
      ]
     },
     "execution_count": 98,
     "metadata": {},
     "output_type": "execute_result"
    }
   ],
   "source": [
    "oregon_customer_df = customer_df[customer_df['state'] == 'OR'].copy()\n",
    "oregon_customer_df['is_hippy'] = 1\n",
    "oregon_customer_df"
   ]
  },
  {
   "cell_type": "markdown",
   "metadata": {},
   "source": [
    "#### What if we really want to modify the original dataframe?\n",
    "#### We can use `df.loc[columns, rows]` to explicity modify the original dataframe."
   ]
  },
  {
   "cell_type": "code",
   "execution_count": 99,
   "metadata": {},
   "outputs": [],
   "source": [
    "customer_df.loc[customer_df['state'] == 'OR', 'is_hippy'] = 1\n",
    "customer_df.loc[customer_df['state'] != 'OR', 'is_hippy'] = 0"
   ]
  },
  {
   "cell_type": "markdown",
   "metadata": {},
   "source": [
    "#### See the awesome results!\n"
   ]
  },
  {
   "cell_type": "code",
   "execution_count": 100,
   "metadata": {},
   "outputs": [
    {
     "data": {
      "text/html": [
       "<div>\n",
       "<style scoped>\n",
       "    .dataframe tbody tr th:only-of-type {\n",
       "        vertical-align: middle;\n",
       "    }\n",
       "\n",
       "    .dataframe tbody tr th {\n",
       "        vertical-align: top;\n",
       "    }\n",
       "\n",
       "    .dataframe thead th {\n",
       "        text-align: right;\n",
       "    }\n",
       "</style>\n",
       "<table border=\"1\" class=\"dataframe\">\n",
       "  <thead>\n",
       "    <tr style=\"text-align: right;\">\n",
       "      <th></th>\n",
       "      <th>name</th>\n",
       "      <th>state</th>\n",
       "      <th>is_hippy</th>\n",
       "    </tr>\n",
       "  </thead>\n",
       "  <tbody>\n",
       "    <tr>\n",
       "      <th>0</th>\n",
       "      <td>Harmony</td>\n",
       "      <td>OR</td>\n",
       "      <td>1.0</td>\n",
       "    </tr>\n",
       "    <tr>\n",
       "      <th>1</th>\n",
       "      <td>Sarah</td>\n",
       "      <td>CA</td>\n",
       "      <td>0.0</td>\n",
       "    </tr>\n",
       "    <tr>\n",
       "      <th>2</th>\n",
       "      <td>Sharad</td>\n",
       "      <td>WA</td>\n",
       "      <td>0.0</td>\n",
       "    </tr>\n",
       "    <tr>\n",
       "      <th>3</th>\n",
       "      <td>CJ</td>\n",
       "      <td>NY</td>\n",
       "      <td>0.0</td>\n",
       "    </tr>\n",
       "    <tr>\n",
       "      <th>4</th>\n",
       "      <td>Jerry</td>\n",
       "      <td>OR</td>\n",
       "      <td>1.0</td>\n",
       "    </tr>\n",
       "  </tbody>\n",
       "</table>\n",
       "</div>"
      ],
      "text/plain": [
       "      name state  is_hippy\n",
       "0  Harmony    OR       1.0\n",
       "1    Sarah    CA       0.0\n",
       "2   Sharad    WA       0.0\n",
       "3       CJ    NY       0.0\n",
       "4    Jerry    OR       1.0"
      ]
     },
     "execution_count": 100,
     "metadata": {},
     "output_type": "execute_result"
    }
   ],
   "source": [
    "customer_df"
   ]
  },
  {
   "cell_type": "markdown",
   "metadata": {},
   "source": [
    "### 5. Filtering data using Pandas\n",
    "\n",
    "There are several ways to grab particular data from a DataFrame.\n",
    "\n",
    "We saw the use of .loc in the previous example. .iloc and .loc can be used in a few different ways to access data from a DataFrame. "
   ]
  },
  {
   "cell_type": "code",
   "execution_count": 101,
   "metadata": {},
   "outputs": [
    {
     "data": {
      "text/plain": [
       "name        Harmony\n",
       "state            OR\n",
       "is_hippy          1\n",
       "Name: 0, dtype: object"
      ]
     },
     "execution_count": 101,
     "metadata": {},
     "output_type": "execute_result"
    }
   ],
   "source": [
    "customer_df.loc[0] #returns the first row"
   ]
  },
  {
   "cell_type": "code",
   "execution_count": 102,
   "metadata": {},
   "outputs": [
    {
     "data": {
      "text/plain": [
       "0    Harmony\n",
       "1      Sarah\n",
       "2     Sharad\n",
       "3         CJ\n",
       "4      Jerry\n",
       "Name: name, dtype: object"
      ]
     },
     "execution_count": 102,
     "metadata": {},
     "output_type": "execute_result"
    }
   ],
   "source": [
    "customer_df.iloc[:,0] #returns the first column"
   ]
  },
  {
   "cell_type": "code",
   "execution_count": 103,
   "metadata": {},
   "outputs": [
    {
     "data": {
      "text/html": [
       "<div>\n",
       "<style scoped>\n",
       "    .dataframe tbody tr th:only-of-type {\n",
       "        vertical-align: middle;\n",
       "    }\n",
       "\n",
       "    .dataframe tbody tr th {\n",
       "        vertical-align: top;\n",
       "    }\n",
       "\n",
       "    .dataframe thead th {\n",
       "        text-align: right;\n",
       "    }\n",
       "</style>\n",
       "<table border=\"1\" class=\"dataframe\">\n",
       "  <thead>\n",
       "    <tr style=\"text-align: right;\">\n",
       "      <th></th>\n",
       "      <th>name</th>\n",
       "      <th>state</th>\n",
       "      <th>is_hippy</th>\n",
       "    </tr>\n",
       "  </thead>\n",
       "  <tbody>\n",
       "    <tr>\n",
       "      <th>0</th>\n",
       "      <td>Harmony</td>\n",
       "      <td>OR</td>\n",
       "      <td>1.0</td>\n",
       "    </tr>\n",
       "    <tr>\n",
       "      <th>1</th>\n",
       "      <td>Sarah</td>\n",
       "      <td>CA</td>\n",
       "      <td>0.0</td>\n",
       "    </tr>\n",
       "  </tbody>\n",
       "</table>\n",
       "</div>"
      ],
      "text/plain": [
       "      name state  is_hippy\n",
       "0  Harmony    OR       1.0\n",
       "1    Sarah    CA       0.0"
      ]
     },
     "execution_count": 103,
     "metadata": {},
     "output_type": "execute_result"
    }
   ],
   "source": [
    "customer_df.iloc[0:2] #returns first two rows"
   ]
  },
  {
   "cell_type": "code",
   "execution_count": 104,
   "metadata": {},
   "outputs": [
    {
     "data": {
      "text/html": [
       "<div>\n",
       "<style scoped>\n",
       "    .dataframe tbody tr th:only-of-type {\n",
       "        vertical-align: middle;\n",
       "    }\n",
       "\n",
       "    .dataframe tbody tr th {\n",
       "        vertical-align: top;\n",
       "    }\n",
       "\n",
       "    .dataframe thead th {\n",
       "        text-align: right;\n",
       "    }\n",
       "</style>\n",
       "<table border=\"1\" class=\"dataframe\">\n",
       "  <thead>\n",
       "    <tr style=\"text-align: right;\">\n",
       "      <th></th>\n",
       "      <th>name</th>\n",
       "      <th>state</th>\n",
       "    </tr>\n",
       "  </thead>\n",
       "  <tbody>\n",
       "    <tr>\n",
       "      <th>0</th>\n",
       "      <td>Harmony</td>\n",
       "      <td>OR</td>\n",
       "    </tr>\n",
       "    <tr>\n",
       "      <th>1</th>\n",
       "      <td>Sarah</td>\n",
       "      <td>CA</td>\n",
       "    </tr>\n",
       "    <tr>\n",
       "      <th>2</th>\n",
       "      <td>Sharad</td>\n",
       "      <td>WA</td>\n",
       "    </tr>\n",
       "    <tr>\n",
       "      <th>3</th>\n",
       "      <td>CJ</td>\n",
       "      <td>NY</td>\n",
       "    </tr>\n",
       "    <tr>\n",
       "      <th>4</th>\n",
       "      <td>Jerry</td>\n",
       "      <td>OR</td>\n",
       "    </tr>\n",
       "  </tbody>\n",
       "</table>\n",
       "</div>"
      ],
      "text/plain": [
       "      name state\n",
       "0  Harmony    OR\n",
       "1    Sarah    CA\n",
       "2   Sharad    WA\n",
       "3       CJ    NY\n",
       "4    Jerry    OR"
      ]
     },
     "execution_count": 104,
     "metadata": {},
     "output_type": "execute_result"
    }
   ],
   "source": [
    "customer_df.iloc[:,0:2] #returns the first two columns"
   ]
  },
  {
   "cell_type": "markdown",
   "metadata": {},
   "source": [
    "How would we use indexing to return the last item in the last row?"
   ]
  },
  {
   "cell_type": "code",
   "execution_count": 105,
   "metadata": {},
   "outputs": [
    {
     "data": {
      "text/plain": [
       "1.0"
      ]
     },
     "execution_count": 105,
     "metadata": {},
     "output_type": "execute_result"
    }
   ],
   "source": [
    "#return the last item in the last row using indexing\n",
    "\n",
    "customer_df.iloc[-1,-1]"
   ]
  },
  {
   "cell_type": "markdown",
   "metadata": {},
   "source": [
    "Use .loc to return rows and columns based on labels. Let's look at the students_df DataFrame again."
   ]
  },
  {
   "cell_type": "code",
   "execution_count": null,
   "metadata": {},
   "outputs": [],
   "source": [
    "students_df.head()"
   ]
  },
  {
   "cell_type": "code",
   "execution_count": null,
   "metadata": {},
   "outputs": [],
   "source": [
    "students_df.loc['1111'] #returns the student information associated with the ID number 1111, which is the index"
   ]
  },
  {
   "cell_type": "code",
   "execution_count": null,
   "metadata": {},
   "outputs": [],
   "source": [
    "students_df.loc[:,'YEARS'] #returns the column labeled 'YEARS'"
   ]
  },
  {
   "cell_type": "code",
   "execution_count": null,
   "metadata": {},
   "outputs": [],
   "source": [
    "students_df.loc['1111','NAME':'HOME'] #returns information for the row labeled '1111' for columns from 'NAME' to 'HOME'"
   ]
  },
  {
   "cell_type": "markdown",
   "metadata": {},
   "source": [
    "We can use .loc to complete more complicated filtering of our data using boolean indexing."
   ]
  },
  {
   "cell_type": "code",
   "execution_count": null,
   "metadata": {},
   "outputs": [],
   "source": [
    "students_df.loc[students_df['NAME']=='Samantha'] #returns only rows where the name of the student is Samantha"
   ]
  },
  {
   "cell_type": "markdown",
   "metadata": {},
   "source": [
    "We can also find out which customers in the customer_df DataFrame are not from Oregon. However, I only want to know their names. How would I return this?"
   ]
  },
  {
   "cell_type": "code",
   "execution_count": null,
   "metadata": {},
   "outputs": [],
   "source": [
    "customer_df.head()"
   ]
  },
  {
   "cell_type": "code",
   "execution_count": 112,
   "metadata": {},
   "outputs": [
    {
     "data": {
      "text/plain": [
       "1     Sarah\n",
       "2    Sharad\n",
       "3        CJ\n",
       "Name: name, dtype: object"
      ]
     },
     "execution_count": 112,
     "metadata": {},
     "output_type": "execute_result"
    }
   ],
   "source": [
    "#return the names of customers who are not from Oregon\n",
    "\n",
    "customer_df[customer_df['state'] != 'OR']['name']"
   ]
  },
  {
   "cell_type": "markdown",
   "metadata": {},
   "source": [
    "Let's select only a single column from a DataFrame. This will create a series, which allows for straightforward, simple selection of the data it holds. "
   ]
  },
  {
   "cell_type": "code",
   "execution_count": null,
   "metadata": {},
   "outputs": [],
   "source": [
    "states=customer_df.loc[:,'state'] #returns a series!!\n",
    "type(states)"
   ]
  },
  {
   "cell_type": "code",
   "execution_count": null,
   "metadata": {},
   "outputs": [],
   "source": [
    "states[0:3] #returns the first 3 items"
   ]
  },
  {
   "cell_type": "code",
   "execution_count": null,
   "metadata": {},
   "outputs": [],
   "source": [
    "states[states=='OR'] #returns 'OR' data and index"
   ]
  },
  {
   "cell_type": "markdown",
   "metadata": {},
   "source": [
    "Now that we know how to select specific data, we can manipulate those cells. For example, we need to update our customer data because all of our customers in Oregon have moved to New Jersey."
   ]
  },
  {
   "cell_type": "code",
   "execution_count": 93,
   "metadata": {},
   "outputs": [
    {
     "data": {
      "text/html": [
       "<div>\n",
       "<style scoped>\n",
       "    .dataframe tbody tr th:only-of-type {\n",
       "        vertical-align: middle;\n",
       "    }\n",
       "\n",
       "    .dataframe tbody tr th {\n",
       "        vertical-align: top;\n",
       "    }\n",
       "\n",
       "    .dataframe thead th {\n",
       "        text-align: right;\n",
       "    }\n",
       "</style>\n",
       "<table border=\"1\" class=\"dataframe\">\n",
       "  <thead>\n",
       "    <tr style=\"text-align: right;\">\n",
       "      <th></th>\n",
       "      <th>name</th>\n",
       "      <th>state</th>\n",
       "      <th>is_hippy</th>\n",
       "    </tr>\n",
       "  </thead>\n",
       "  <tbody>\n",
       "    <tr>\n",
       "      <th>0</th>\n",
       "      <td>Harmony</td>\n",
       "      <td>NJ</td>\n",
       "      <td>1.0</td>\n",
       "    </tr>\n",
       "    <tr>\n",
       "      <th>1</th>\n",
       "      <td>Sarah</td>\n",
       "      <td>CA</td>\n",
       "      <td>0.0</td>\n",
       "    </tr>\n",
       "    <tr>\n",
       "      <th>2</th>\n",
       "      <td>Sharad</td>\n",
       "      <td>WA</td>\n",
       "      <td>0.0</td>\n",
       "    </tr>\n",
       "    <tr>\n",
       "      <th>3</th>\n",
       "      <td>CJ</td>\n",
       "      <td>NY</td>\n",
       "      <td>0.0</td>\n",
       "    </tr>\n",
       "    <tr>\n",
       "      <th>4</th>\n",
       "      <td>Jerry</td>\n",
       "      <td>NJ</td>\n",
       "      <td>1.0</td>\n",
       "    </tr>\n",
       "  </tbody>\n",
       "</table>\n",
       "</div>"
      ],
      "text/plain": [
       "      name state  is_hippy\n",
       "0  Harmony    NJ       1.0\n",
       "1    Sarah    CA       0.0\n",
       "2   Sharad    WA       0.0\n",
       "3       CJ    NY       0.0\n",
       "4    Jerry    NJ       1.0"
      ]
     },
     "execution_count": 93,
     "metadata": {},
     "output_type": "execute_result"
    }
   ],
   "source": [
    "customer_df.loc[customer_df[\"state\"]=='OR', \"state\"] = 'NJ'\n",
    "\n",
    "customer_df"
   ]
  },
  {
   "cell_type": "markdown",
   "metadata": {},
   "source": [
    "Or maybe we got a customer's name wrong and need to change that. Perhaps CJ is actually named TJ. How would we do that?"
   ]
  },
  {
   "cell_type": "code",
   "execution_count": 106,
   "metadata": {},
   "outputs": [
    {
     "data": {
      "text/html": [
       "<div>\n",
       "<style scoped>\n",
       "    .dataframe tbody tr th:only-of-type {\n",
       "        vertical-align: middle;\n",
       "    }\n",
       "\n",
       "    .dataframe tbody tr th {\n",
       "        vertical-align: top;\n",
       "    }\n",
       "\n",
       "    .dataframe thead th {\n",
       "        text-align: right;\n",
       "    }\n",
       "</style>\n",
       "<table border=\"1\" class=\"dataframe\">\n",
       "  <thead>\n",
       "    <tr style=\"text-align: right;\">\n",
       "      <th></th>\n",
       "      <th>name</th>\n",
       "      <th>state</th>\n",
       "      <th>is_hippy</th>\n",
       "    </tr>\n",
       "  </thead>\n",
       "  <tbody>\n",
       "    <tr>\n",
       "      <th>1</th>\n",
       "      <td>Sarah</td>\n",
       "      <td>CA</td>\n",
       "      <td>0.0</td>\n",
       "    </tr>\n",
       "    <tr>\n",
       "      <th>2</th>\n",
       "      <td>Sharad</td>\n",
       "      <td>WA</td>\n",
       "      <td>0.0</td>\n",
       "    </tr>\n",
       "    <tr>\n",
       "      <th>3</th>\n",
       "      <td>CJ</td>\n",
       "      <td>NY</td>\n",
       "      <td>0.0</td>\n",
       "    </tr>\n",
       "  </tbody>\n",
       "</table>\n",
       "</div>"
      ],
      "text/plain": [
       "     name state  is_hippy\n",
       "1   Sarah    CA       0.0\n",
       "2  Sharad    WA       0.0\n",
       "3      CJ    NY       0.0"
      ]
     },
     "execution_count": 106,
     "metadata": {},
     "output_type": "execute_result"
    }
   ],
   "source": [
    "#return the customer_df with the fixed name\n",
    "\n",
    "customer_df.loc[customer_df['state'] != 'OR']\n"
   ]
  },
  {
   "cell_type": "markdown",
   "metadata": {},
   "source": [
    "### Lesson Recap\n",
    "\n",
    "Now that we have all of these new tools in our tool belt, let's take another look at our animal shelter data! \n",
    "\n",
    "- Use `shelter_data.columns` to get the list of column names\n",
    "- Drop columns from the animal shelter data until you have only 5 columns remaining\n",
    "- Rename those columns\n",
    "- Get the `unique()` values in outcomes \n",
    "- select rows of animals based on an application of boolean indexing\n",
    "\n",
    "For extra credit: add in your own new column on information to this DataFrame."
   ]
  },
  {
   "cell_type": "code",
   "execution_count": null,
   "metadata": {},
   "outputs": [],
   "source": [
    "#code here"
   ]
  }
 ],
 "metadata": {
  "kernelspec": {
   "display_name": "Python 3",
   "language": "python",
   "name": "python3"
  },
  "language_info": {
   "codemirror_mode": {
    "name": "ipython",
    "version": 3
   },
   "file_extension": ".py",
   "mimetype": "text/x-python",
   "name": "python",
   "nbconvert_exporter": "python",
   "pygments_lexer": "ipython3",
   "version": "3.7.3"
  }
 },
 "nbformat": 4,
 "nbformat_minor": 2
}
